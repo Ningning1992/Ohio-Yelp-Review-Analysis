{
 "cells": [
  {
   "cell_type": "code",
   "execution_count": 98,
   "metadata": {
    "collapsed": false
   },
   "outputs": [],
   "source": [
    "import json\n",
    "from collections import Counter\n",
    "import pandas as pd\n",
    "import numpy as np\n",
    "from pandas.io.json import json_normalize\n",
    "import matplotlib.pyplot as plt\n",
    "import seaborn as sns\n",
    "import shelve"
   ]
  },
  {
   "cell_type": "markdown",
   "metadata": {},
   "source": [
    "The original data is too large to be uploaded onto GitHub. Thus, the pre-processing and extracting of data were conducted locally with the following code. The original data can be retrived from [Yelp Dataset](https://www.yelp.com/dataset/challenge). We extract a subset from it and save the data we worked with in the \"data\" folder in this repository."
   ]
  },
  {
   "cell_type": "code",
   "execution_count": 2,
   "metadata": {
    "collapsed": true
   },
   "outputs": [],
   "source": [
    "# the local path of JSON files that needed\n",
    "json_business_path='../dataset/business.json'\n",
    "json_review_path='../dataset/review.json'"
   ]
  },
  {
   "cell_type": "code",
   "execution_count": 3,
   "metadata": {
    "collapsed": false
   },
   "outputs": [],
   "source": [
    "# extract business information\n",
    "business_contents=[]\n",
    "with open(json_business_path) as fin:\n",
    "    for line in fin:\n",
    "        line=json.loads(line)\n",
    "        business_contents.append(line)"
   ]
  },
  {
   "cell_type": "markdown",
   "metadata": {},
   "source": [
    "As we can see below, the data contains business information from different states and different business types. Among the most popular locations and business types, we focus on restaurants at Ohio."
   ]
  },
  {
   "cell_type": "code",
   "execution_count": 4,
   "metadata": {
    "collapsed": false
   },
   "outputs": [
    {
     "data": {
      "text/plain": [
       "[('AZ', 47376),\n",
       " ('NV', 30571),\n",
       " ('ON', 26520),\n",
       " ('NC', 11299),\n",
       " ('OH', 10930),\n",
       " ('PA', 8916),\n",
       " ('QC', 7273),\n",
       " ('WI', 4190),\n",
       " ('EDH', 3561),\n",
       " ('BW', 3071)]"
      ]
     },
     "execution_count": 4,
     "metadata": {},
     "output_type": "execute_result"
    }
   ],
   "source": [
    "# In order to control the scope the project, we take OH state, 10930 businesses\n",
    "state=[]\n",
    "for line in business_contents:\n",
    "    state.append(line['state']) \n",
    "# the 10 most popular locations\n",
    "Counter(state).most_common(10)"
   ]
  },
  {
   "cell_type": "code",
   "execution_count": 5,
   "metadata": {
    "collapsed": false
   },
   "outputs": [
    {
     "data": {
      "text/plain": [
       "[('Restaurants', 4513),\n",
       " ('Food', 1916),\n",
       " ('Shopping', 1628),\n",
       " ('Nightlife', 1180),\n",
       " ('Bars', 1083),\n",
       " ('Beauty & Spas', 930),\n",
       " ('American (Traditional)', 891),\n",
       " ('Automotive', 738),\n",
       " ('Pizza', 706),\n",
       " ('Sandwiches', 677)]"
      ]
     },
     "execution_count": 5,
     "metadata": {},
     "output_type": "execute_result"
    }
   ],
   "source": [
    "# we focus on Restaurants in OH, around 4513 businesses\n",
    "cat_of_business=[]\n",
    "for line in business_contents:\n",
    "    if line['state']=='OH':\n",
    "        try:\n",
    "            cat_of_business.extend(line['categories'])\n",
    "        except:\n",
    "            next \n",
    "    \n",
    "# The 10 most popular business types,focus on 'Restaurants'\n",
    "Counter(cat_of_business).most_common(10)"
   ]
  },
  {
   "cell_type": "code",
   "execution_count": 6,
   "metadata": {
    "collapsed": false
   },
   "outputs": [
    {
     "name": "stdout",
     "output_type": "stream",
     "text": [
      "we will research 4513 restaurants in OH\n"
     ]
    }
   ],
   "source": [
    "# we have 4513 restaurants in OH to be reseaerched\n",
    "OH_Restaurants=[]\n",
    "for line in business_contents:\n",
    "    if (line['state']=='OH') and ('Restaurants' in line['categories']):\n",
    "        OH_Restaurants.append(line)\n",
    "print('we will research %d restaurants in OH'%len(OH_Restaurants))"
   ]
  },
  {
   "cell_type": "markdown",
   "metadata": {},
   "source": [
    "For the convenience of research and reproducibility, we will save the data that extracted from the original JSON data into data frames and use them for future analyis and statistical modeling.\n"
   ]
  },
  {
   "cell_type": "code",
   "execution_count": 7,
   "metadata": {
    "collapsed": false
   },
   "outputs": [],
   "source": [
    "# we need to keep those columns\n",
    "res_col=['state','city','address','name','business_id','stars','review_count','categories']\n",
    "restaurants=json_normalize(OH_Restaurants)[res_col]"
   ]
  },
  {
   "cell_type": "code",
   "execution_count": 8,
   "metadata": {
    "collapsed": false
   },
   "outputs": [
    {
     "data": {
      "text/html": [
       "<div>\n",
       "<style>\n",
       "    .dataframe thead tr:only-child th {\n",
       "        text-align: right;\n",
       "    }\n",
       "\n",
       "    .dataframe thead th {\n",
       "        text-align: left;\n",
       "    }\n",
       "\n",
       "    .dataframe tbody tr th {\n",
       "        vertical-align: top;\n",
       "    }\n",
       "</style>\n",
       "<table border=\"1\" class=\"dataframe\">\n",
       "  <thead>\n",
       "    <tr style=\"text-align: right;\">\n",
       "      <th></th>\n",
       "      <th>state</th>\n",
       "      <th>city</th>\n",
       "      <th>address</th>\n",
       "      <th>name</th>\n",
       "      <th>business_id</th>\n",
       "      <th>stars</th>\n",
       "      <th>review_count</th>\n",
       "      <th>categories</th>\n",
       "    </tr>\n",
       "  </thead>\n",
       "  <tbody>\n",
       "    <tr>\n",
       "      <th>0</th>\n",
       "      <td>OH</td>\n",
       "      <td>Painesville</td>\n",
       "      <td>1 S State St</td>\n",
       "      <td>Sidewalk Cafe Painesville</td>\n",
       "      <td>Bl7Y-ATTzXytQnCceg5k6w</td>\n",
       "      <td>3.0</td>\n",
       "      <td>26</td>\n",
       "      <td>[American (Traditional), Breakfast &amp; Brunch, R...</td>\n",
       "    </tr>\n",
       "    <tr>\n",
       "      <th>1</th>\n",
       "      <td>OH</td>\n",
       "      <td>Northfield</td>\n",
       "      <td>10430 Northfield Rd</td>\n",
       "      <td>Zeppe's Pizzeria</td>\n",
       "      <td>7HFRdxVttyY9GiMpywhhYw</td>\n",
       "      <td>3.0</td>\n",
       "      <td>7</td>\n",
       "      <td>[Pizza, Caterers, Italian, Wraps, Event Planni...</td>\n",
       "    </tr>\n",
       "    <tr>\n",
       "      <th>2</th>\n",
       "      <td>OH</td>\n",
       "      <td>Mentor</td>\n",
       "      <td>9209 Mentor Ave</td>\n",
       "      <td>Firehouse Subs</td>\n",
       "      <td>lXcxSdPa2m__LqhsaL9t9A</td>\n",
       "      <td>3.5</td>\n",
       "      <td>9</td>\n",
       "      <td>[Restaurants, Sandwiches, Delis, Fast Food]</td>\n",
       "    </tr>\n",
       "    <tr>\n",
       "      <th>3</th>\n",
       "      <td>OH</td>\n",
       "      <td>Cleveland</td>\n",
       "      <td>13181 Cedar Rd</td>\n",
       "      <td>Richie Chan's Chinese Restaurant</td>\n",
       "      <td>Pawavw9U8rjxWVPU-RB7LA</td>\n",
       "      <td>3.5</td>\n",
       "      <td>22</td>\n",
       "      <td>[Chinese, Restaurants]</td>\n",
       "    </tr>\n",
       "    <tr>\n",
       "      <th>4</th>\n",
       "      <td>OH</td>\n",
       "      <td>Northfield</td>\n",
       "      <td>134 E Aurora Rd</td>\n",
       "      <td>Romeo's Pizza</td>\n",
       "      <td>RzVHK8Jfcy8RvXjn_z3OBw</td>\n",
       "      <td>4.0</td>\n",
       "      <td>4</td>\n",
       "      <td>[Restaurants, Pizza]</td>\n",
       "    </tr>\n",
       "  </tbody>\n",
       "</table>\n",
       "</div>"
      ],
      "text/plain": [
       "  state         city              address                              name  \\\n",
       "0    OH  Painesville         1 S State St         Sidewalk Cafe Painesville   \n",
       "1    OH   Northfield  10430 Northfield Rd                  Zeppe's Pizzeria   \n",
       "2    OH       Mentor      9209 Mentor Ave                    Firehouse Subs   \n",
       "3    OH    Cleveland       13181 Cedar Rd  Richie Chan's Chinese Restaurant   \n",
       "4    OH   Northfield      134 E Aurora Rd                     Romeo's Pizza   \n",
       "\n",
       "              business_id  stars  review_count  \\\n",
       "0  Bl7Y-ATTzXytQnCceg5k6w    3.0            26   \n",
       "1  7HFRdxVttyY9GiMpywhhYw    3.0             7   \n",
       "2  lXcxSdPa2m__LqhsaL9t9A    3.5             9   \n",
       "3  Pawavw9U8rjxWVPU-RB7LA    3.5            22   \n",
       "4  RzVHK8Jfcy8RvXjn_z3OBw    4.0             4   \n",
       "\n",
       "                                          categories  \n",
       "0  [American (Traditional), Breakfast & Brunch, R...  \n",
       "1  [Pizza, Caterers, Italian, Wraps, Event Planni...  \n",
       "2        [Restaurants, Sandwiches, Delis, Fast Food]  \n",
       "3                             [Chinese, Restaurants]  \n",
       "4                               [Restaurants, Pizza]  "
      ]
     },
     "execution_count": 8,
     "metadata": {},
     "output_type": "execute_result"
    }
   ],
   "source": [
    "# a glimpse of the restaurant\n",
    "restaurants.head()"
   ]
  },
  {
   "cell_type": "code",
   "execution_count": 9,
   "metadata": {
    "collapsed": false
   },
   "outputs": [
    {
     "data": {
      "text/plain": [
       "(4513, 8)"
      ]
     },
     "execution_count": 9,
     "metadata": {},
     "output_type": "execute_result"
    }
   ],
   "source": [
    "restaurants.shape"
   ]
  },
  {
   "cell_type": "markdown",
   "metadata": {},
   "source": [
    "There are a lot of business reviews, when we extract them from JSON file, we only extract those reviews which are for the restaurants in our sample."
   ]
  },
  {
   "cell_type": "code",
   "execution_count": 35,
   "metadata": {
    "collapsed": false
   },
   "outputs": [],
   "source": [
    "# extract review information\n",
    "review_contents=[]\n",
    "with open(json_review_path) as fin:\n",
    "    for line in fin:\n",
    "        line=json.loads(line)\n",
    "        if line['business_id'] in list(restaurants.business_id):\n",
    "            review_contents.append(line)"
   ]
  },
  {
   "cell_type": "code",
   "execution_count": 66,
   "metadata": {
    "collapsed": true
   },
   "outputs": [],
   "source": [
    "# save all the reviews in Ohio\n",
    "with shelve.open('../dataset/ohio_all_reviews') as db:\n",
    "    db['reviews'] = review_contents"
   ]
  },
  {
   "cell_type": "code",
   "execution_count": 11,
   "metadata": {
    "collapsed": false
   },
   "outputs": [],
   "source": [
    "# total 154764 reviews on 4513 restaurants\n",
    "len(review_contents)\n",
    "# convert into data frame\n",
    "reviews=json_normalize(review_contents)"
   ]
  },
  {
   "cell_type": "markdown",
   "metadata": {},
   "source": [
    "We'd like to remove restaurant with too few reviews. We see that there are some restaurants which have few reviews, so we only keep restaurants which have more than 100 reviews."
   ]
  },
  {
   "cell_type": "code",
   "execution_count": 12,
   "metadata": {
    "collapsed": false,
    "scrolled": true
   },
   "outputs": [
    {
     "data": {
      "text/plain": [
       "count    4513.000000\n",
       "mean       34.292932\n",
       "std        57.777458\n",
       "min         3.000000\n",
       "25%         6.000000\n",
       "50%        15.000000\n",
       "75%        39.000000\n",
       "max       896.000000\n",
       "Name: business_id, dtype: float64"
      ]
     },
     "execution_count": 12,
     "metadata": {},
     "output_type": "execute_result"
    }
   ],
   "source": [
    "reviews.business_id.value_counts().describe()"
   ]
  },
  {
   "cell_type": "code",
   "execution_count": 13,
   "metadata": {
    "collapsed": false
   },
   "outputs": [],
   "source": [
    "# only keep the restaurants which have more than 100 reviews\n",
    "keep_busID=reviews.business_id.value_counts().index[reviews.business_id.value_counts()>100]\n",
    "reviews_keep=reviews.loc[reviews.business_id.isin(keep_busID),:]"
   ]
  },
  {
   "cell_type": "code",
   "execution_count": 50,
   "metadata": {
    "collapsed": false
   },
   "outputs": [
    {
     "data": {
      "text/plain": [
       "count    316.000000\n",
       "mean     190.575949\n",
       "std      122.290224\n",
       "min      101.000000\n",
       "25%      117.750000\n",
       "50%      149.000000\n",
       "75%      206.250000\n",
       "max      896.000000\n",
       "Name: business_id, dtype: float64"
      ]
     },
     "execution_count": 50,
     "metadata": {},
     "output_type": "execute_result"
    }
   ],
   "source": [
    "reviews_keep.business_id.value_counts().describe()"
   ]
  },
  {
   "cell_type": "markdown",
   "metadata": {},
   "source": [
    "As we can see in the follow plot, the range of reviews per restaurant is [100,900] after we filter the data set. "
   ]
  },
  {
   "cell_type": "code",
   "execution_count": null,
   "metadata": {
    "collapsed": false
   },
   "outputs": [],
   "source": [
    "# plot the restaurant on x axis and number of reviews on y axis\n",
    "reviews_keep.business_id.value_counts().plot()\n",
    "plt.xlabel('Restaurants')\n",
    "plt.ylabel('Number of Reviews')\n",
    "\n",
    "n_obs=len(reviews_keep.business_id.unique())\n",
    "sns.rugplot(np.arange(0,n_obs,1))\n",
    "\n",
    "plt.tick_params(axis='x',labelbottom='off')\n",
    "plt.title('Number of Reviews Per Restaurant')\n",
    "\n",
    "plt.savefig('./fig/NumberOfReviewsPerRestaurant.png')\n",
    "plt.show()\n"
   ]
  },
  {
   "cell_type": "markdown",
   "metadata": {},
   "source": [
    "As we can see in th following table, the distribution of mean star rating for restaurants is skewed to the left with most restaurants having the mean star ratings in the range between 3 and 4. There are few restaurants which have earned mean ratings less than 2. "
   ]
  },
  {
   "cell_type": "code",
   "execution_count": 173,
   "metadata": {
    "collapsed": false
   },
   "outputs": [
    {
     "data": {
      "image/png": "[encoded data removed]",
      "text/plain": [
       "<matplotlib.figure.Figure at 0x153dd15f8>"
      ]
     },
     "metadata": {},
     "output_type": "display_data"
    }
   ],
   "source": [
    "# the mean star rating for restaurants\n",
    "sns.distplot(reviews_keep.groupby('business_id').mean()['stars'],rug=True)\n",
    "plt.xlabel('Mean Star Ratings')\n",
    "plt.title('Mean Star Ratings for Restaurants')\n",
    "plt.show()\n",
    "\n",
    "plt.savefig('./fig/MeanRatings.png')"
   ]
  },
  {
   "cell_type": "code",
   "execution_count": 57,
   "metadata": {
    "collapsed": true
   },
   "outputs": [],
   "source": [
    "# save to csv\n",
    "reviews_keep.to_csv('reviews.csv')\n",
    "restaurants.to_csv('restaurant.csv')"
   ]
  }
 ],
 "metadata": {
  "kernelspec": {
   "display_name": "Python 3",
   "language": "python",
   "name": "python3"
  },
  "language_info": {
   "codemirror_mode": {
    "name": "ipython",
    "version": 3
   },
   "file_extension": ".py",
   "mimetype": "text/x-python",
   "name": "python",
   "nbconvert_exporter": "python",
   "pygments_lexer": "ipython3",
   "version": "3.6.0"
  }
 },
 "nbformat": 4,
 "nbformat_minor": 2
}
