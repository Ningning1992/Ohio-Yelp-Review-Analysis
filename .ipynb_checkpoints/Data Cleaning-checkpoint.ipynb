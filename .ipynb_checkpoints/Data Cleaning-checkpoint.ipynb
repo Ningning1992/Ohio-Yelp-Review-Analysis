{
 "cells": [
  {
   "cell_type": "code",
   "execution_count": 93,
   "metadata": {
    "collapsed": false
   },
   "outputs": [],
   "source": [
    "import json\n",
    "from collections import Counter\n",
    "import pandas as pd\n",
    "import numpy as np\n",
    "from pandas.io.json import json_normalize\n",
    "\n",
    "from nltk.corpus import stopwords \n",
    "from nltk.stem.wordnet import WordNetLemmatizer\n",
    "import string\n",
    "from nltk.stem.porter import PorterStemmer\n",
    "from nltk.tag import pos_tag\n",
    "import nltk"
   ]
  },
  {
   "cell_type": "markdown",
   "metadata": {},
   "source": [
    "The original data is too large to be uploaded onto GitHub. Thus, the pre-processing and extraction "
   ]
  },
  {
   "cell_type": "code",
   "execution_count": 71,
   "metadata": {
    "collapsed": true
   },
   "outputs": [],
   "source": [
    "# the path of JSON files that needed\n",
    "json_business_path='./Desktop/dataset/business.json'\n",
    "json_review_path='./Desktop/dataset/review.json'"
   ]
  },
  {
   "cell_type": "code",
   "execution_count": 189,
   "metadata": {
    "collapsed": false
   },
   "outputs": [],
   "source": [
    "# extract business information\n",
    "business_contents=[]\n",
    "with open(json_business_path) as fin:\n",
    "    for line in fin:\n",
    "        line=json.loads(line)\n",
    "        business_contents.append(line)"
   ]
  },
  {
   "cell_type": "code",
   "execution_count": 205,
   "metadata": {
    "collapsed": false
   },
   "outputs": [],
   "source": [
    "# In order to control the scope the project, we take OH state, 10930 businesses\n",
    "state=[]\n",
    "for line in business_contents:\n",
    "    state.append(line['state']) \n",
    "Counter(state).most_common(10)"
   ]
  },
  {
   "cell_type": "code",
   "execution_count": 235,
   "metadata": {
    "collapsed": false
   },
   "outputs": [
    {
     "data": {
      "text/plain": [
       "[('Restaurants', 4513),\n",
       " ('Food', 1916),\n",
       " ('Shopping', 1628),\n",
       " ('Nightlife', 1180),\n",
       " ('Bars', 1083)]"
      ]
     },
     "execution_count": 235,
     "metadata": {},
     "output_type": "execute_result"
    }
   ],
   "source": [
    "# we focus on Restaurants in OH, around 4513 businesses\n",
    "cat_of_business=[]\n",
    "for line in business_contents:\n",
    "    if line['state']=='OH':\n",
    "        try:\n",
    "            cat_of_business.extend(line['categories'])\n",
    "        except:\n",
    "            next \n",
    "    \n",
    "# focus on 'Restaurants'\n",
    "Counter(cat_of_business).most_common(5)"
   ]
  },
  {
   "cell_type": "code",
   "execution_count": 236,
   "metadata": {
    "collapsed": false
   },
   "outputs": [],
   "source": [
    "# we have 4513 restaurants in OH to be reseaerched\n",
    "OH_Restaurants=[]\n",
    "for line in business_contents:\n",
    "    if (line['state']=='OH') and ('Restaurants' in line['categories']):\n",
    "        OH_Restaurants.append(line)\n",
    "len(OH_Restaurants)"
   ]
  },
  {
   "cell_type": "code",
   "execution_count": 240,
   "metadata": {
    "collapsed": false
   },
   "outputs": [],
   "source": [
    "# convert the list into data frames\n",
    "restaurant_list=[]\n",
    "for line in OH_Restaurants:\n",
    "        restaurant_list.append([line['state'],line['city'],line['address'],\n",
    "                       line['name'],line['business_id']])      \n",
    "\n",
    "restaurant=pd.DataFrame(restaurant_list)\n",
    "restaurant.columns=['state','city','address','name','business_id']"
   ]
  },
  {
   "cell_type": "code",
   "execution_count": 247,
   "metadata": {
    "collapsed": false
   },
   "outputs": [
    {
     "data": {
      "text/plain": [
       "(4513, 5)"
      ]
     },
     "execution_count": 247,
     "metadata": {},
     "output_type": "execute_result"
    }
   ],
   "source": [
    "# a glimpse of the restaurant\n",
    "restaurant.head()"
   ]
  },
  {
   "cell_type": "code",
   "execution_count": 273,
   "metadata": {
    "collapsed": false
   },
   "outputs": [],
   "source": [
    "# extract review information\n",
    "review_contents=[]\n",
    "with open(json_review_path) as fin:\n",
    "    for line in fin:\n",
    "        line=json.loads(line)\n",
    "        if line['business_id'] in list(restaurant.business_id):\n",
    "            review_contents.append(line)"
   ]
  },
  {
   "cell_type": "code",
   "execution_count": 275,
   "metadata": {
    "collapsed": false
   },
   "outputs": [
    {
     "data": {
      "text/plain": [
       "154764"
      ]
     },
     "execution_count": 275,
     "metadata": {},
     "output_type": "execute_result"
    }
   ],
   "source": [
    "# total 154764 reviews on 4513 restaurants\n",
    "len(review_contents)\n",
    "# convert into data frame\n",
    "reviews=json_normalize(review_contents)"
   ]
  },
  {
   "cell_type": "markdown",
   "metadata": {},
   "source": [
    "We'd like to remove restaurant with too few reviews. We see that 50% of restaurants have more than 15 reviews, so we only keep restaurants which have more than 15 reviews."
   ]
  },
  {
   "cell_type": "code",
   "execution_count": 316,
   "metadata": {
    "collapsed": false,
    "scrolled": true
   },
   "outputs": [
    {
     "data": {
      "text/plain": [
       "count    4513.000000\n",
       "mean       34.292932\n",
       "std        57.777458\n",
       "min         3.000000\n",
       "25%         6.000000\n",
       "50%        15.000000\n",
       "75%        39.000000\n",
       "max       896.000000\n",
       "Name: business_id, dtype: float64"
      ]
     },
     "execution_count": 316,
     "metadata": {},
     "output_type": "execute_result"
    }
   ],
   "source": [
    "reviews.business_id.value_counts().describe()"
   ]
  },
  {
   "cell_type": "code",
   "execution_count": 323,
   "metadata": {
    "collapsed": false
   },
   "outputs": [],
   "source": [
    "keep_busID=reviews.business_id.value_counts().index[reviews.business_id.value_counts()>15]\n",
    "reviews_keep=reviews.loc[reviews.business_id.isin(keep_busID),:]"
   ]
  },
  {
   "cell_type": "code",
   "execution_count": 285,
   "metadata": {
    "collapsed": false
   },
   "outputs": [],
   "source": [
    "# save to csv\n",
    "reviews.to_csv('reviews.csv')\n",
    "restaurant.to_csv('restaurant.csv')"
   ]
  },
  {
   "cell_type": "code",
   "execution_count": 258,
   "metadata": {
    "collapsed": true
   },
   "outputs": [],
   "source": [
    "import resource"
   ]
  },
  {
   "cell_type": "code",
   "execution_count": 413,
   "metadata": {
    "collapsed": false
   },
   "outputs": [
    {
     "data": {
      "text/plain": [
       "1638.244352"
      ]
     },
     "execution_count": 413,
     "metadata": {},
     "output_type": "execute_result"
    }
   ],
   "source": [
    "resource.getrusage(resource.RUSAGE_SELF).ru_maxrss/1000000"
   ]
  },
  {
   "cell_type": "code",
   "execution_count": 334,
   "metadata": {
    "collapsed": true
   },
   "outputs": [],
   "source": [
    "stop = set(stopwords.words('english'))\n",
    "exclude = set(string.punctuation) \n",
    "lemma = WordNetLemmatizer()"
   ]
  },
  {
   "cell_type": "code",
   "execution_count": 404,
   "metadata": {
    "collapsed": false
   },
   "outputs": [],
   "source": [
    "review_list = []\n",
    "for text in reviews_keep.text[0:1000]:\n",
    "    text = text.lower()\n",
    "    # Tokenization\n",
    "    token = nltk.word_tokenize(text)\n",
    "    # remove stop words and punctuation\n",
    "    token = [i for i in token if i not in stop]\n",
    "    token = [i for i in token if i not in exclude]   \n",
    "    # remove non-nune tokens\n",
    "    tagged_token = pos_tag(token)\n",
    "    token = [token for token,pos in tagged_token if pos == 'NN']\n",
    "    # lemmatize\n",
    "    token = [lemma.lemmatize(i) for i in token]\n",
    "    review_list.append(token)        "
   ]
  },
  {
   "cell_type": "code",
   "execution_count": 365,
   "metadata": {
    "collapsed": false
   },
   "outputs": [],
   "source": [
    "import gensim\n",
    "from gensim import corpora"
   ]
  },
  {
   "cell_type": "code",
   "execution_count": 405,
   "metadata": {
    "collapsed": false
   },
   "outputs": [],
   "source": [
    "# create dictionary and term_matrix\n",
    "dictionary = corpora.Dictionary(review_list)\n",
    "term_matrix = [dictionary.doc2bow(review) for review in review_list[0:500]]"
   ]
  },
  {
   "cell_type": "code",
   "execution_count": 407,
   "metadata": {
    "collapsed": true
   },
   "outputs": [],
   "source": [
    "# Creating the object for LDA model using gensim library\n",
    "lda = gensim.models.ldamodel.LdaModel\n",
    "\n",
    "# Running and Trainign LDA model on the document term matrix.\n",
    "ldamodel = lda(term_matrix, num_topics=3, id2word = dictionary, passes=10)"
   ]
  },
  {
   "cell_type": "code",
   "execution_count": 408,
   "metadata": {
    "collapsed": false
   },
   "outputs": [
    {
     "name": "stdout",
     "output_type": "stream",
     "text": [
      "[(0, '0.049*\"food\" + 0.026*\"place\" + 0.017*\"sauce\"'), (1, '0.040*\"food\" + 0.025*\"place\" + 0.021*\"service\"'), (2, '0.022*\"sauce\" + 0.012*\"chicken\" + 0.010*\"food\"')]\n"
     ]
    }
   ],
   "source": [
    "print(ldamodel.print_topics(num_topics=3, num_words=3))"
   ]
  },
  {
   "cell_type": "code",
   "execution_count": 409,
   "metadata": {
    "collapsed": false
   },
   "outputs": [],
   "source": [
    "# on new data\n",
    "new_data_topics=[]\n",
    "for review in review_list[500:1000]:\n",
    "    doc_bow = dictionary.doc2bow(review)\n",
    "    topics = [sorted(ldamodel[doc_bow], key=lambda x: x[1], reverse=True)]\n",
    "    new_data_topics.extend(topics)"
   ]
  },
  {
   "cell_type": "code",
   "execution_count": 414,
   "metadata": {
    "collapsed": false
   },
   "outputs": [
    {
     "data": {
      "text/html": [
       "<div>\n",
       "<style>\n",
       "    .dataframe thead tr:only-child th {\n",
       "        text-align: right;\n",
       "    }\n",
       "\n",
       "    .dataframe thead th {\n",
       "        text-align: left;\n",
       "    }\n",
       "\n",
       "    .dataframe tbody tr th {\n",
       "        vertical-align: top;\n",
       "    }\n",
       "</style>\n",
       "<table border=\"1\" class=\"dataframe\">\n",
       "  <thead>\n",
       "    <tr style=\"text-align: right;\">\n",
       "      <th></th>\n",
       "      <th>business_id</th>\n",
       "      <th>cool</th>\n",
       "      <th>date</th>\n",
       "      <th>funny</th>\n",
       "      <th>review_id</th>\n",
       "      <th>stars</th>\n",
       "      <th>text</th>\n",
       "      <th>useful</th>\n",
       "      <th>user_id</th>\n",
       "    </tr>\n",
       "  </thead>\n",
       "  <tbody>\n",
       "    <tr>\n",
       "      <th>0</th>\n",
       "      <td>dwQEZBFen2GdihLLfWeexA</td>\n",
       "      <td>0</td>\n",
       "      <td>2011-08-21</td>\n",
       "      <td>0</td>\n",
       "      <td>4RF8dMNBW-p2eTluPME_4g</td>\n",
       "      <td>4</td>\n",
       "      <td>Enjoyed the bright fun Mexican decor!  The foo...</td>\n",
       "      <td>0</td>\n",
       "      <td>rv6_U_4AsOQ-L50aNRuNNg</td>\n",
       "    </tr>\n",
       "    <tr>\n",
       "      <th>1</th>\n",
       "      <td>dwQEZBFen2GdihLLfWeexA</td>\n",
       "      <td>0</td>\n",
       "      <td>2013-06-03</td>\n",
       "      <td>0</td>\n",
       "      <td>ClgrKJ6dqiM7vSKJBJ2w6Q</td>\n",
       "      <td>4</td>\n",
       "      <td>I've been here at least 5 times now and each t...</td>\n",
       "      <td>0</td>\n",
       "      <td>T5MGS0NHBCWgofZ6Q6Btng</td>\n",
       "    </tr>\n",
       "    <tr>\n",
       "      <th>2</th>\n",
       "      <td>dwQEZBFen2GdihLLfWeexA</td>\n",
       "      <td>0</td>\n",
       "      <td>2014-03-15</td>\n",
       "      <td>0</td>\n",
       "      <td>IBCTqmvwvd5ZqQhuvFDNXg</td>\n",
       "      <td>5</td>\n",
       "      <td>Terrific service. The place was packed, but we...</td>\n",
       "      <td>0</td>\n",
       "      <td>NtkMuGqcis30GjAkq91etA</td>\n",
       "    </tr>\n",
       "    <tr>\n",
       "      <th>3</th>\n",
       "      <td>dwQEZBFen2GdihLLfWeexA</td>\n",
       "      <td>0</td>\n",
       "      <td>2014-06-09</td>\n",
       "      <td>0</td>\n",
       "      <td>69kni-xG6qtg9y3Hq_zw5g</td>\n",
       "      <td>4</td>\n",
       "      <td>Ate here for lunch on a Sunday.  Arrived aroun...</td>\n",
       "      <td>0</td>\n",
       "      <td>unEY79t6hHECP9Yd58R1dg</td>\n",
       "    </tr>\n",
       "    <tr>\n",
       "      <th>4</th>\n",
       "      <td>dwQEZBFen2GdihLLfWeexA</td>\n",
       "      <td>0</td>\n",
       "      <td>2012-02-25</td>\n",
       "      <td>0</td>\n",
       "      <td>rQOasxLFCDNWLNW27VHnyA</td>\n",
       "      <td>5</td>\n",
       "      <td>Been dining here since it first opened. Wife i...</td>\n",
       "      <td>0</td>\n",
       "      <td>UwfgmOOul1fc79IcI5h2MQ</td>\n",
       "    </tr>\n",
       "  </tbody>\n",
       "</table>\n",
       "</div>"
      ],
      "text/plain": [
       "              business_id  cool        date  funny               review_id  \\\n",
       "0  dwQEZBFen2GdihLLfWeexA     0  2011-08-21      0  4RF8dMNBW-p2eTluPME_4g   \n",
       "1  dwQEZBFen2GdihLLfWeexA     0  2013-06-03      0  ClgrKJ6dqiM7vSKJBJ2w6Q   \n",
       "2  dwQEZBFen2GdihLLfWeexA     0  2014-03-15      0  IBCTqmvwvd5ZqQhuvFDNXg   \n",
       "3  dwQEZBFen2GdihLLfWeexA     0  2014-06-09      0  69kni-xG6qtg9y3Hq_zw5g   \n",
       "4  dwQEZBFen2GdihLLfWeexA     0  2012-02-25      0  rQOasxLFCDNWLNW27VHnyA   \n",
       "\n",
       "   stars                                               text  useful  \\\n",
       "0      4  Enjoyed the bright fun Mexican decor!  The foo...       0   \n",
       "1      4  I've been here at least 5 times now and each t...       0   \n",
       "2      5  Terrific service. The place was packed, but we...       0   \n",
       "3      4  Ate here for lunch on a Sunday.  Arrived aroun...       0   \n",
       "4      5  Been dining here since it first opened. Wife i...       0   \n",
       "\n",
       "                  user_id  \n",
       "0  rv6_U_4AsOQ-L50aNRuNNg  \n",
       "1  T5MGS0NHBCWgofZ6Q6Btng  \n",
       "2  NtkMuGqcis30GjAkq91etA  \n",
       "3  unEY79t6hHECP9Yd58R1dg  \n",
       "4  UwfgmOOul1fc79IcI5h2MQ  "
      ]
     },
     "execution_count": 414,
     "metadata": {},
     "output_type": "execute_result"
    }
   ],
   "source": [
    "reviews_keep.head()"
   ]
  },
  {
   "cell_type": "code",
   "execution_count": 417,
   "metadata": {
    "collapsed": true
   },
   "outputs": [],
   "source": [
    "topic_dict = {0:\"Mexican\",1:\"Family\",2:\"Night/Bar\"}\n",
    "topic_count={\"Mexican\":0,\"Family\":0,\"Night/Bar\":0}"
   ]
  },
  {
   "cell_type": "code",
   "execution_count": 418,
   "metadata": {
    "collapsed": false
   },
   "outputs": [],
   "source": [
    "# get training matrix for linear regression\n",
    "train = np.zeros((500,3))\n",
    "for i in range(500):\n",
    "    items = new_data_topics[i]\n",
    "    for s in items:\n",
    "        if s[1]>0.05:\n",
    "            topic = topic_dict[s[0]]\n",
    "            topic_count[topic]+=1\n",
    "            train[i,s[0]] = 1/len(items)\n"
   ]
  },
  {
   "cell_type": "code",
   "execution_count": 421,
   "metadata": {
    "collapsed": false
   },
   "outputs": [
    {
     "data": {
      "text/plain": [
       "{0: 'Mexican', 1: 'Family', 2: 'Night/Bar'}"
      ]
     },
     "execution_count": 421,
     "metadata": {},
     "output_type": "execute_result"
    }
   ],
   "source": [
    "topic_dict"
   ]
  },
  {
   "cell_type": "code",
   "execution_count": 422,
   "metadata": {
    "collapsed": false
   },
   "outputs": [
    {
     "data": {
      "text/plain": [
       "{'Family': 438, 'Mexican': 441, 'Night/Bar': 290}"
      ]
     },
     "execution_count": 422,
     "metadata": {},
     "output_type": "execute_result"
    }
   ],
   "source": [
    "topic_count"
   ]
  },
  {
   "cell_type": "code",
   "execution_count": 420,
   "metadata": {
    "collapsed": false
   },
   "outputs": [
    {
     "data": {
      "text/plain": [
       "[(1, 0.96188396787094388),\n",
       " (2, 0.023204289531856249),\n",
       " (0, 0.014911742597199856)]"
      ]
     },
     "execution_count": 420,
     "metadata": {},
     "output_type": "execute_result"
    }
   ],
   "source": [
    "new_data_topics[0]"
   ]
  },
  {
   "cell_type": "code",
   "execution_count": 419,
   "metadata": {
    "collapsed": false
   },
   "outputs": [
    {
     "data": {
      "text/plain": [
       "array([[ 0.        ,  0.33333333,  0.        ],\n",
       "       [ 0.33333333,  0.33333333,  0.33333333],\n",
       "       [ 0.33333333,  0.        ,  0.33333333],\n",
       "       ..., \n",
       "       [ 0.33333333,  0.33333333,  0.        ],\n",
       "       [ 0.33333333,  0.33333333,  0.        ],\n",
       "       [ 0.33333333,  0.33333333,  0.33333333]])"
      ]
     },
     "execution_count": 419,
     "metadata": {},
     "output_type": "execute_result"
    }
   ],
   "source": [
    "train"
   ]
  },
  {
   "cell_type": "code",
   "execution_count": 424,
   "metadata": {
    "collapsed": false
   },
   "outputs": [],
   "source": [
    "reviews_keep.to_csv('reviews.csv')"
   ]
  },
  {
   "cell_type": "code",
   "execution_count": 425,
   "metadata": {
    "collapsed": false
   },
   "outputs": [
    {
     "data": {
      "text/plain": [
       "(138398, 9)"
      ]
     },
     "execution_count": 425,
     "metadata": {},
     "output_type": "execute_result"
    }
   ],
   "source": [
    "reviews_keep.shape"
   ]
  },
  {
   "cell_type": "code",
   "execution_count": 426,
   "metadata": {
    "collapsed": false
   },
   "outputs": [
    {
     "data": {
      "text/plain": [
       "{'business_id': 'dwQEZBFen2GdihLLfWeexA',\n",
       " 'cool': 0,\n",
       " 'date': '2011-08-21',\n",
       " 'funny': 0,\n",
       " 'review_id': '4RF8dMNBW-p2eTluPME_4g',\n",
       " 'stars': 4,\n",
       " 'text': 'Enjoyed the bright fun Mexican decor!  The food was delicious and reasonably priced!  And the margaritas were delicious!',\n",
       " 'useful': 0,\n",
       " 'user_id': 'rv6_U_4AsOQ-L50aNRuNNg'}"
      ]
     },
     "execution_count": 426,
     "metadata": {},
     "output_type": "execute_result"
    }
   ],
   "source": [
    "review_contents[0]"
   ]
  },
  {
   "cell_type": "code",
   "execution_count": 427,
   "metadata": {
    "collapsed": false
   },
   "outputs": [
    {
     "data": {
      "text/plain": [
       "{'address': '691 Richmond Rd',\n",
       " 'attributes': {'BikeParking': True,\n",
       "  'BusinessParking': {'garage': False,\n",
       "   'lot': True,\n",
       "   'street': False,\n",
       "   'valet': False,\n",
       "   'validated': False},\n",
       "  'RestaurantsPriceRange2': 2,\n",
       "  'WheelchairAccessible': True},\n",
       " 'business_id': 'YDf95gJZaq05wvo7hTQbbQ',\n",
       " 'categories': ['Shopping', 'Shopping Centers'],\n",
       " 'city': 'Richmond Heights',\n",
       " 'hours': {'Friday': '10:00-21:00',\n",
       "  'Monday': '10:00-21:00',\n",
       "  'Saturday': '10:00-21:00',\n",
       "  'Sunday': '11:00-18:00',\n",
       "  'Thursday': '10:00-21:00',\n",
       "  'Tuesday': '10:00-21:00',\n",
       "  'Wednesday': '10:00-21:00'},\n",
       " 'is_open': 1,\n",
       " 'latitude': 41.5417162,\n",
       " 'longitude': -81.4931165,\n",
       " 'name': 'Richmond Town Square',\n",
       " 'neighborhood': '',\n",
       " 'postal_code': '44143',\n",
       " 'review_count': 17,\n",
       " 'stars': 2.0,\n",
       " 'state': 'OH'}"
      ]
     },
     "execution_count": 427,
     "metadata": {},
     "output_type": "execute_result"
    }
   ],
   "source": [
    "business_contents[0]"
   ]
  },
  {
   "cell_type": "code",
   "execution_count": 428,
   "metadata": {
    "collapsed": false
   },
   "outputs": [
    {
     "data": {
      "text/html": [
       "<div>\n",
       "<style>\n",
       "    .dataframe thead tr:only-child th {\n",
       "        text-align: right;\n",
       "    }\n",
       "\n",
       "    .dataframe thead th {\n",
       "        text-align: left;\n",
       "    }\n",
       "\n",
       "    .dataframe tbody tr th {\n",
       "        vertical-align: top;\n",
       "    }\n",
       "</style>\n",
       "<table border=\"1\" class=\"dataframe\">\n",
       "  <thead>\n",
       "    <tr style=\"text-align: right;\">\n",
       "      <th></th>\n",
       "      <th>state</th>\n",
       "      <th>city</th>\n",
       "      <th>address</th>\n",
       "      <th>name</th>\n",
       "      <th>business_id</th>\n",
       "    </tr>\n",
       "  </thead>\n",
       "  <tbody>\n",
       "    <tr>\n",
       "      <th>0</th>\n",
       "      <td>OH</td>\n",
       "      <td>Painesville</td>\n",
       "      <td>1 S State St</td>\n",
       "      <td>Sidewalk Cafe Painesville</td>\n",
       "      <td>Bl7Y-ATTzXytQnCceg5k6w</td>\n",
       "    </tr>\n",
       "    <tr>\n",
       "      <th>1</th>\n",
       "      <td>OH</td>\n",
       "      <td>Northfield</td>\n",
       "      <td>10430 Northfield Rd</td>\n",
       "      <td>Zeppe's Pizzeria</td>\n",
       "      <td>7HFRdxVttyY9GiMpywhhYw</td>\n",
       "    </tr>\n",
       "    <tr>\n",
       "      <th>2</th>\n",
       "      <td>OH</td>\n",
       "      <td>Mentor</td>\n",
       "      <td>9209 Mentor Ave</td>\n",
       "      <td>Firehouse Subs</td>\n",
       "      <td>lXcxSdPa2m__LqhsaL9t9A</td>\n",
       "    </tr>\n",
       "    <tr>\n",
       "      <th>3</th>\n",
       "      <td>OH</td>\n",
       "      <td>Cleveland</td>\n",
       "      <td>13181 Cedar Rd</td>\n",
       "      <td>Richie Chan's Chinese Restaurant</td>\n",
       "      <td>Pawavw9U8rjxWVPU-RB7LA</td>\n",
       "    </tr>\n",
       "    <tr>\n",
       "      <th>4</th>\n",
       "      <td>OH</td>\n",
       "      <td>Northfield</td>\n",
       "      <td>134 E Aurora Rd</td>\n",
       "      <td>Romeo's Pizza</td>\n",
       "      <td>RzVHK8Jfcy8RvXjn_z3OBw</td>\n",
       "    </tr>\n",
       "  </tbody>\n",
       "</table>\n",
       "</div>"
      ],
      "text/plain": [
       "  state         city              address                              name  \\\n",
       "0    OH  Painesville         1 S State St         Sidewalk Cafe Painesville   \n",
       "1    OH   Northfield  10430 Northfield Rd                  Zeppe's Pizzeria   \n",
       "2    OH       Mentor      9209 Mentor Ave                    Firehouse Subs   \n",
       "3    OH    Cleveland       13181 Cedar Rd  Richie Chan's Chinese Restaurant   \n",
       "4    OH   Northfield      134 E Aurora Rd                     Romeo's Pizza   \n",
       "\n",
       "              business_id  \n",
       "0  Bl7Y-ATTzXytQnCceg5k6w  \n",
       "1  7HFRdxVttyY9GiMpywhhYw  \n",
       "2  lXcxSdPa2m__LqhsaL9t9A  \n",
       "3  Pawavw9U8rjxWVPU-RB7LA  \n",
       "4  RzVHK8Jfcy8RvXjn_z3OBw  "
      ]
     },
     "execution_count": 428,
     "metadata": {},
     "output_type": "execute_result"
    }
   ],
   "source": [
    "restaurant.head()"
   ]
  }
 ],
 "metadata": {
  "kernelspec": {
   "display_name": "Python 3",
   "language": "python",
   "name": "python3"
  },
  "language_info": {
   "codemirror_mode": {
    "name": "ipython",
    "version": 3
   },
   "file_extension": ".py",
   "mimetype": "text/x-python",
   "name": "python",
   "nbconvert_exporter": "python",
   "pygments_lexer": "ipython3",
   "version": "3.6.0"
  }
 },
 "nbformat": 4,
 "nbformat_minor": 2
}
