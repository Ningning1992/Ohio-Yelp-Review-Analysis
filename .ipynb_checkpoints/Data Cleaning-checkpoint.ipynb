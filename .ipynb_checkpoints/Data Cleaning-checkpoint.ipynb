{
 "cells": [
  {
   "cell_type": "code",
   "execution_count": 98,
   "metadata": {
    "collapsed": false
   },
   "outputs": [],
   "source": [
    "import json\n",
    "from collections import Counter\n",
    "import pandas as pd\n",
    "import numpy as np\n",
    "from pandas.io.json import json_normalize\n",
    "import matplotlib.pyplot as plt\n",
    "import seaborn as sns\n",
    "import shelve\n",
    "\n",
    "from nltk.corpus import stopwords \n",
    "from nltk.stem.wordnet import WordNetLemmatizer\n",
    "import string\n",
    "from nltk.stem.porter import PorterStemmer\n",
    "from nltk.tag import pos_tag\n",
    "import nltk\n",
    "import gensim\n",
    "from gensim import corpora\n"
   ]
  },
  {
   "cell_type": "markdown",
   "metadata": {},
   "source": [
    "The original data is too large to be uploaded onto GitHub. Thus, the pre-processing and extracting of data were conducted locally with the following code. The original data can be retrived from [Yelp Dataset](https://www.yelp.com/dataset/challenge). We extract a subset from it and save the data we worked with in the \"data\" folder in this repository."
   ]
  },
  {
   "cell_type": "code",
   "execution_count": 2,
   "metadata": {
    "collapsed": true
   },
   "outputs": [],
   "source": [
    "# the local path of JSON files that needed\n",
    "json_business_path='../dataset/business.json'\n",
    "json_review_path='../dataset/review.json'"
   ]
  },
  {
   "cell_type": "code",
   "execution_count": 3,
   "metadata": {
    "collapsed": false
   },
   "outputs": [],
   "source": [
    "# extract business information\n",
    "business_contents=[]\n",
    "with open(json_business_path) as fin:\n",
    "    for line in fin:\n",
    "        line=json.loads(line)\n",
    "        business_contents.append(line)"
   ]
  },
  {
   "cell_type": "markdown",
   "metadata": {},
   "source": [
    "As we can see below, the data contains business information from different states and different business types. Among the most popular locations and business types, we focus on restaurants at Ohio."
   ]
  },
  {
   "cell_type": "code",
   "execution_count": 4,
   "metadata": {
    "collapsed": false
   },
   "outputs": [
    {
     "data": {
      "text/plain": [
       "[('AZ', 47376),\n",
       " ('NV', 30571),\n",
       " ('ON', 26520),\n",
       " ('NC', 11299),\n",
       " ('OH', 10930),\n",
       " ('PA', 8916),\n",
       " ('QC', 7273),\n",
       " ('WI', 4190),\n",
       " ('EDH', 3561),\n",
       " ('BW', 3071)]"
      ]
     },
     "execution_count": 4,
     "metadata": {},
     "output_type": "execute_result"
    }
   ],
   "source": [
    "# In order to control the scope the project, we take OH state, 10930 businesses\n",
    "state=[]\n",
    "for line in business_contents:\n",
    "    state.append(line['state']) \n",
    "# the 10 most popular locations\n",
    "Counter(state).most_common(10)"
   ]
  },
  {
   "cell_type": "code",
   "execution_count": 5,
   "metadata": {
    "collapsed": false
   },
   "outputs": [
    {
     "data": {
      "text/plain": [
       "[('Restaurants', 4513),\n",
       " ('Food', 1916),\n",
       " ('Shopping', 1628),\n",
       " ('Nightlife', 1180),\n",
       " ('Bars', 1083),\n",
       " ('Beauty & Spas', 930),\n",
       " ('American (Traditional)', 891),\n",
       " ('Automotive', 738),\n",
       " ('Pizza', 706),\n",
       " ('Sandwiches', 677)]"
      ]
     },
     "execution_count": 5,
     "metadata": {},
     "output_type": "execute_result"
    }
   ],
   "source": [
    "# we focus on Restaurants in OH, around 4513 businesses\n",
    "cat_of_business=[]\n",
    "for line in business_contents:\n",
    "    if line['state']=='OH':\n",
    "        try:\n",
    "            cat_of_business.extend(line['categories'])\n",
    "        except:\n",
    "            next \n",
    "    \n",
    "# The 10 most popular business types,focus on 'Restaurants'\n",
    "Counter(cat_of_business).most_common(10)"
   ]
  },
  {
   "cell_type": "code",
   "execution_count": 6,
   "metadata": {
    "collapsed": false
   },
   "outputs": [
    {
     "name": "stdout",
     "output_type": "stream",
     "text": [
      "we will research 4513 restaurants in OH\n"
     ]
    }
   ],
   "source": [
    "# we have 4513 restaurants in OH to be reseaerched\n",
    "OH_Restaurants=[]\n",
    "for line in business_contents:\n",
    "    if (line['state']=='OH') and ('Restaurants' in line['categories']):\n",
    "        OH_Restaurants.append(line)\n",
    "print('we will research %d restaurants in OH'%len(OH_Restaurants))"
   ]
  },
  {
   "cell_type": "markdown",
   "metadata": {},
   "source": [
    "For the convenience of research and reproducibility, we will save the data that extracted from the original JSON data into data frames and use them for future analyis and statistical modeling.\n"
   ]
  },
  {
   "cell_type": "code",
   "execution_count": 7,
   "metadata": {
    "collapsed": false
   },
   "outputs": [],
   "source": [
    "# we need to keep those columns\n",
    "res_col=['state','city','address','name','business_id','stars','review_count','categories']\n",
    "restaurants=json_normalize(OH_Restaurants)[res_col]"
   ]
  },
  {
   "cell_type": "code",
   "execution_count": 8,
   "metadata": {
    "collapsed": false
   },
   "outputs": [
    {
     "data": {
      "text/html": [
       "<div>\n",
       "<style>\n",
       "    .dataframe thead tr:only-child th {\n",
       "        text-align: right;\n",
       "    }\n",
       "\n",
       "    .dataframe thead th {\n",
       "        text-align: left;\n",
       "    }\n",
       "\n",
       "    .dataframe tbody tr th {\n",
       "        vertical-align: top;\n",
       "    }\n",
       "</style>\n",
       "<table border=\"1\" class=\"dataframe\">\n",
       "  <thead>\n",
       "    <tr style=\"text-align: right;\">\n",
       "      <th></th>\n",
       "      <th>state</th>\n",
       "      <th>city</th>\n",
       "      <th>address</th>\n",
       "      <th>name</th>\n",
       "      <th>business_id</th>\n",
       "      <th>stars</th>\n",
       "      <th>review_count</th>\n",
       "      <th>categories</th>\n",
       "    </tr>\n",
       "  </thead>\n",
       "  <tbody>\n",
       "    <tr>\n",
       "      <th>0</th>\n",
       "      <td>OH</td>\n",
       "      <td>Painesville</td>\n",
       "      <td>1 S State St</td>\n",
       "      <td>Sidewalk Cafe Painesville</td>\n",
       "      <td>Bl7Y-ATTzXytQnCceg5k6w</td>\n",
       "      <td>3.0</td>\n",
       "      <td>26</td>\n",
       "      <td>[American (Traditional), Breakfast &amp; Brunch, R...</td>\n",
       "    </tr>\n",
       "    <tr>\n",
       "      <th>1</th>\n",
       "      <td>OH</td>\n",
       "      <td>Northfield</td>\n",
       "      <td>10430 Northfield Rd</td>\n",
       "      <td>Zeppe's Pizzeria</td>\n",
       "      <td>7HFRdxVttyY9GiMpywhhYw</td>\n",
       "      <td>3.0</td>\n",
       "      <td>7</td>\n",
       "      <td>[Pizza, Caterers, Italian, Wraps, Event Planni...</td>\n",
       "    </tr>\n",
       "    <tr>\n",
       "      <th>2</th>\n",
       "      <td>OH</td>\n",
       "      <td>Mentor</td>\n",
       "      <td>9209 Mentor Ave</td>\n",
       "      <td>Firehouse Subs</td>\n",
       "      <td>lXcxSdPa2m__LqhsaL9t9A</td>\n",
       "      <td>3.5</td>\n",
       "      <td>9</td>\n",
       "      <td>[Restaurants, Sandwiches, Delis, Fast Food]</td>\n",
       "    </tr>\n",
       "    <tr>\n",
       "      <th>3</th>\n",
       "      <td>OH</td>\n",
       "      <td>Cleveland</td>\n",
       "      <td>13181 Cedar Rd</td>\n",
       "      <td>Richie Chan's Chinese Restaurant</td>\n",
       "      <td>Pawavw9U8rjxWVPU-RB7LA</td>\n",
       "      <td>3.5</td>\n",
       "      <td>22</td>\n",
       "      <td>[Chinese, Restaurants]</td>\n",
       "    </tr>\n",
       "    <tr>\n",
       "      <th>4</th>\n",
       "      <td>OH</td>\n",
       "      <td>Northfield</td>\n",
       "      <td>134 E Aurora Rd</td>\n",
       "      <td>Romeo's Pizza</td>\n",
       "      <td>RzVHK8Jfcy8RvXjn_z3OBw</td>\n",
       "      <td>4.0</td>\n",
       "      <td>4</td>\n",
       "      <td>[Restaurants, Pizza]</td>\n",
       "    </tr>\n",
       "  </tbody>\n",
       "</table>\n",
       "</div>"
      ],
      "text/plain": [
       "  state         city              address                              name  \\\n",
       "0    OH  Painesville         1 S State St         Sidewalk Cafe Painesville   \n",
       "1    OH   Northfield  10430 Northfield Rd                  Zeppe's Pizzeria   \n",
       "2    OH       Mentor      9209 Mentor Ave                    Firehouse Subs   \n",
       "3    OH    Cleveland       13181 Cedar Rd  Richie Chan's Chinese Restaurant   \n",
       "4    OH   Northfield      134 E Aurora Rd                     Romeo's Pizza   \n",
       "\n",
       "              business_id  stars  review_count  \\\n",
       "0  Bl7Y-ATTzXytQnCceg5k6w    3.0            26   \n",
       "1  7HFRdxVttyY9GiMpywhhYw    3.0             7   \n",
       "2  lXcxSdPa2m__LqhsaL9t9A    3.5             9   \n",
       "3  Pawavw9U8rjxWVPU-RB7LA    3.5            22   \n",
       "4  RzVHK8Jfcy8RvXjn_z3OBw    4.0             4   \n",
       "\n",
       "                                          categories  \n",
       "0  [American (Traditional), Breakfast & Brunch, R...  \n",
       "1  [Pizza, Caterers, Italian, Wraps, Event Planni...  \n",
       "2        [Restaurants, Sandwiches, Delis, Fast Food]  \n",
       "3                             [Chinese, Restaurants]  \n",
       "4                               [Restaurants, Pizza]  "
      ]
     },
     "execution_count": 8,
     "metadata": {},
     "output_type": "execute_result"
    }
   ],
   "source": [
    "# a glimpse of the restaurant\n",
    "restaurants.head()"
   ]
  },
  {
   "cell_type": "code",
   "execution_count": 9,
   "metadata": {
    "collapsed": false
   },
   "outputs": [
    {
     "data": {
      "text/plain": [
       "(4513, 8)"
      ]
     },
     "execution_count": 9,
     "metadata": {},
     "output_type": "execute_result"
    }
   ],
   "source": [
    "restaurants.shape"
   ]
  },
  {
   "cell_type": "markdown",
   "metadata": {},
   "source": [
    "There are a lot of business reviews, when we extract them from JSON file, we only extract those reviews which are for the restaurants in our sample."
   ]
  },
  {
   "cell_type": "code",
   "execution_count": 35,
   "metadata": {
    "collapsed": false
   },
   "outputs": [],
   "source": [
    "# extract review information\n",
    "review_contents=[]\n",
    "with open(json_review_path) as fin:\n",
    "    for line in fin:\n",
    "        line=json.loads(line)\n",
    "        if line['business_id'] in list(restaurants.business_id):\n",
    "            review_contents.append(line)"
   ]
  },
  {
   "cell_type": "code",
   "execution_count": 66,
   "metadata": {
    "collapsed": true
   },
   "outputs": [],
   "source": [
    "# save all the reviews in Ohio\n",
    "with shelve.open('../dataset/ohio_all_reviews') as db:\n",
    "    db['reviews'] = review_contents"
   ]
  },
  {
   "cell_type": "code",
   "execution_count": 11,
   "metadata": {
    "collapsed": false
   },
   "outputs": [],
   "source": [
    "# total 154764 reviews on 4513 restaurants\n",
    "len(review_contents)\n",
    "# convert into data frame\n",
    "reviews=json_normalize(review_contents)"
   ]
  },
  {
   "cell_type": "markdown",
   "metadata": {},
   "source": [
    "We'd like to remove restaurant with too few reviews. We see that there are some restaurants which have few reviews, so we only keep restaurants which have more than 100 reviews."
   ]
  },
  {
   "cell_type": "code",
   "execution_count": 12,
   "metadata": {
    "collapsed": false,
    "scrolled": true
   },
   "outputs": [
    {
     "data": {
      "text/plain": [
       "count    4513.000000\n",
       "mean       34.292932\n",
       "std        57.777458\n",
       "min         3.000000\n",
       "25%         6.000000\n",
       "50%        15.000000\n",
       "75%        39.000000\n",
       "max       896.000000\n",
       "Name: business_id, dtype: float64"
      ]
     },
     "execution_count": 12,
     "metadata": {},
     "output_type": "execute_result"
    }
   ],
   "source": [
    "reviews.business_id.value_counts().describe()"
   ]
  },
  {
   "cell_type": "code",
   "execution_count": 13,
   "metadata": {
    "collapsed": false
   },
   "outputs": [],
   "source": [
    "# only keep the restaurants which have more than 100 reviews\n",
    "keep_busID=reviews.business_id.value_counts().index[reviews.business_id.value_counts()>100]\n",
    "reviews_keep=reviews.loc[reviews.business_id.isin(keep_busID),:]"
   ]
  },
  {
   "cell_type": "code",
   "execution_count": 50,
   "metadata": {
    "collapsed": false
   },
   "outputs": [
    {
     "data": {
      "text/plain": [
       "count    316.000000\n",
       "mean     190.575949\n",
       "std      122.290224\n",
       "min      101.000000\n",
       "25%      117.750000\n",
       "50%      149.000000\n",
       "75%      206.250000\n",
       "max      896.000000\n",
       "Name: business_id, dtype: float64"
      ]
     },
     "execution_count": 50,
     "metadata": {},
     "output_type": "execute_result"
    }
   ],
   "source": [
    "reviews_keep.business_id.value_counts().describe()"
   ]
  },
  {
   "cell_type": "markdown",
   "metadata": {},
   "source": [
    "As we can see in the follow plot, the range of reviews per restaurant is [100,900] after we filter the data set. "
   ]
  },
  {
   "cell_type": "code",
   "execution_count": 60,
   "metadata": {
    "collapsed": false
   },
   "outputs": [
    {
     "data": {
      "image/png": "[encoded data removed]",
      "text/plain": [
       "<matplotlib.figure.Figure at 0x1b571a160>"
      ]
     },
     "metadata": {},
     "output_type": "display_data"
    }
   ],
   "source": [
    "# plot the restaurant on x axis and number of reviews on y axis\n",
    "reviews_keep.business_id.value_counts().plot()\n",
    "plt.xlabel('Restaurants')\n",
    "plt.ylabel('Number of Reviews')\n",
    "\n",
    "n_obs=len(reviews_keep.business_id.unique())\n",
    "sns.rugplot(np.arange(0,n_obs,1))\n",
    "\n",
    "plt.tick_params(axis='x',labelbottom='off')\n",
    "plt.show()"
   ]
  },
  {
   "cell_type": "markdown",
   "metadata": {},
   "source": [
    "As we can see in th following table, the distribution of mean star rating for restaurants is skewed to the left with most restaurants having the mean star ratings in the range between 3 and 4. There are few restaurants which have earned mean ratings less than 2. "
   ]
  },
  {
   "cell_type": "code",
   "execution_count": 86,
   "metadata": {
    "collapsed": false
   },
   "outputs": [
    {
     "data": {
      "image/png": "[encoded data removed]",
      "text/plain": [
       "<matplotlib.figure.Figure at 0x1b3843ef0>"
      ]
     },
     "metadata": {},
     "output_type": "display_data"
    }
   ],
   "source": [
    "# the mean star rating for restaurants\n",
    "sns.distplot(reviews_keep.groupby('business_id').mean()['stars'],rug=True)\n",
    "plt.xlabel('Mean Star Ratings')\n",
    "plt.show()"
   ]
  },
  {
   "cell_type": "code",
   "execution_count": 57,
   "metadata": {
    "collapsed": true
   },
   "outputs": [],
   "source": [
    "# save to csv\n",
    "reviews_keep.to_csv('reviews.csv')\n",
    "restaurants.to_csv('restaurant.csv')"
   ]
  },
  {
   "cell_type": "code",
   "execution_count": 90,
   "metadata": {
    "collapsed": false
   },
   "outputs": [
    {
     "data": {
      "text/plain": [
       "3128.56576"
      ]
     },
     "execution_count": 90,
     "metadata": {},
     "output_type": "execute_result"
    }
   ],
   "source": [
    "import resource\n",
    "resource.getrusage(resource.RUSAGE_SELF).ru_maxrss/1000000"
   ]
  },
  {
   "cell_type": "code",
   "execution_count": 45,
   "metadata": {
    "collapsed": true
   },
   "outputs": [],
   "source": [
    "stop = set(stopwords.words('english'))\n",
    "exclude = set(string.punctuation) \n",
    "lemma = WordNetLemmatizer()"
   ]
  },
  {
   "cell_type": "code",
   "execution_count": 46,
   "metadata": {
    "collapsed": false
   },
   "outputs": [],
   "source": [
    "review_list = []\n",
    "for text in reviews_keep.text:\n",
    "    text = text.lower()\n",
    "    # Tokenization\n",
    "    token = nltk.word_tokenize(text)\n",
    "    # remove stop words and punctuation\n",
    "    token = [i for i in token if i not in stop]\n",
    "    token = [i for i in token if i not in exclude]   \n",
    "    # remove non-nune tokens\n",
    "    tagged_token = pos_tag(token)\n",
    "    token = [token for token,pos in tagged_token if pos == 'NN']\n",
    "    # lemmatize\n",
    "    token = [lemma.lemmatize(i) for i in token]\n",
    "    review_list.append(token)        "
   ]
  },
  {
   "cell_type": "code",
   "execution_count": 101,
   "metadata": {
    "collapsed": false
   },
   "outputs": [],
   "source": [
    "with shelve.open('./result/text_array') as db:\n",
    "    review_list=db['text_array']"
   ]
  },
  {
   "cell_type": "code",
   "execution_count": 116,
   "metadata": {
    "collapsed": false
   },
   "outputs": [],
   "source": [
    "max_id=reviews_keep.business_id.value_counts().index[0]"
   ]
  },
  {
   "cell_type": "code",
   "execution_count": 124,
   "metadata": {
    "collapsed": false
   },
   "outputs": [],
   "source": [
    "slice_id=reviews_keep.business_id==max_id"
   ]
  },
  {
   "cell_type": "code",
   "execution_count": 128,
   "metadata": {
    "collapsed": true
   },
   "outputs": [],
   "source": [
    "dictionary = corpora.Dictionary()"
   ]
  },
  {
   "cell_type": "code",
   "execution_count": 129,
   "metadata": {
    "collapsed": false
   },
   "outputs": [],
   "source": [
    "dicttionary = dictionary.load('./result/dictionary.dic')"
   ]
  },
  {
   "cell_type": "code",
   "execution_count": 131,
   "metadata": {
    "collapsed": false
   },
   "outputs": [
    {
     "data": {
      "text/plain": [
       "60222"
      ]
     },
     "execution_count": 131,
     "metadata": {},
     "output_type": "execute_result"
    }
   ],
   "source": [
    "len(slice_id)-896"
   ]
  },
  {
   "cell_type": "code",
   "execution_count": 133,
   "metadata": {
    "collapsed": false
   },
   "outputs": [
    {
     "ename": "KeyError",
     "evalue": "0",
     "output_type": "error",
     "traceback": [
      "\u001b[0;31m---------------------------------------------------------------------------\u001b[0m",
      "\u001b[0;31mKeyError\u001b[0m                                  Traceback (most recent call last)",
      "\u001b[0;32m<ipython-input-133-cc56e8dbc6e4>\u001b[0m in \u001b[0;36m<module>\u001b[0;34m()\u001b[0m\n\u001b[1;32m      1\u001b[0m \u001b[0;31m# create dictionary and term_matrix\u001b[0m\u001b[0;34m\u001b[0m\u001b[0;34m\u001b[0m\u001b[0m\n\u001b[1;32m      2\u001b[0m \u001b[0;31m# dictionary = corpora.Dictionary(review_list)\u001b[0m\u001b[0;34m\u001b[0m\u001b[0;34m\u001b[0m\u001b[0m\n\u001b[0;32m----> 3\u001b[0;31m \u001b[0mterm_matrix\u001b[0m \u001b[0;34m=\u001b[0m \u001b[0;34m[\u001b[0m\u001b[0mdictionary\u001b[0m\u001b[0;34m.\u001b[0m\u001b[0mdoc2bow\u001b[0m\u001b[0;34m(\u001b[0m\u001b[0mreview_list\u001b[0m\u001b[0;34m[\u001b[0m\u001b[0mi\u001b[0m\u001b[0;34m]\u001b[0m\u001b[0;34m)\u001b[0m \u001b[0;32mfor\u001b[0m \u001b[0mi\u001b[0m \u001b[0;32min\u001b[0m \u001b[0mrange\u001b[0m\u001b[0;34m(\u001b[0m\u001b[0;36m60222\u001b[0m\u001b[0;34m)\u001b[0m \u001b[0;32mif\u001b[0m \u001b[0mslice_id\u001b[0m\u001b[0;34m[\u001b[0m\u001b[0mi\u001b[0m\u001b[0;34m]\u001b[0m\u001b[0;34m==\u001b[0m\u001b[0;32mFalse\u001b[0m\u001b[0;34m]\u001b[0m\u001b[0;34m\u001b[0m\u001b[0m\n\u001b[0m",
      "\u001b[0;32m<ipython-input-133-cc56e8dbc6e4>\u001b[0m in \u001b[0;36m<listcomp>\u001b[0;34m(.0)\u001b[0m\n\u001b[1;32m      1\u001b[0m \u001b[0;31m# create dictionary and term_matrix\u001b[0m\u001b[0;34m\u001b[0m\u001b[0;34m\u001b[0m\u001b[0m\n\u001b[1;32m      2\u001b[0m \u001b[0;31m# dictionary = corpora.Dictionary(review_list)\u001b[0m\u001b[0;34m\u001b[0m\u001b[0;34m\u001b[0m\u001b[0m\n\u001b[0;32m----> 3\u001b[0;31m \u001b[0mterm_matrix\u001b[0m \u001b[0;34m=\u001b[0m \u001b[0;34m[\u001b[0m\u001b[0mdictionary\u001b[0m\u001b[0;34m.\u001b[0m\u001b[0mdoc2bow\u001b[0m\u001b[0;34m(\u001b[0m\u001b[0mreview_list\u001b[0m\u001b[0;34m[\u001b[0m\u001b[0mi\u001b[0m\u001b[0;34m]\u001b[0m\u001b[0;34m)\u001b[0m \u001b[0;32mfor\u001b[0m \u001b[0mi\u001b[0m \u001b[0;32min\u001b[0m \u001b[0mrange\u001b[0m\u001b[0;34m(\u001b[0m\u001b[0;36m60222\u001b[0m\u001b[0;34m)\u001b[0m \u001b[0;32mif\u001b[0m \u001b[0mslice_id\u001b[0m\u001b[0;34m[\u001b[0m\u001b[0mi\u001b[0m\u001b[0;34m]\u001b[0m\u001b[0;34m==\u001b[0m\u001b[0;32mFalse\u001b[0m\u001b[0;34m]\u001b[0m\u001b[0;34m\u001b[0m\u001b[0m\n\u001b[0m",
      "\u001b[0;32m~/anaconda/lib/python3.6/site-packages/pandas/core/series.py\u001b[0m in \u001b[0;36m__getitem__\u001b[0;34m(self, key)\u001b[0m\n\u001b[1;32m    599\u001b[0m         \u001b[0mkey\u001b[0m \u001b[0;34m=\u001b[0m \u001b[0mcom\u001b[0m\u001b[0;34m.\u001b[0m\u001b[0m_apply_if_callable\u001b[0m\u001b[0;34m(\u001b[0m\u001b[0mkey\u001b[0m\u001b[0;34m,\u001b[0m \u001b[0mself\u001b[0m\u001b[0;34m)\u001b[0m\u001b[0;34m\u001b[0m\u001b[0m\n\u001b[1;32m    600\u001b[0m         \u001b[0;32mtry\u001b[0m\u001b[0;34m:\u001b[0m\u001b[0;34m\u001b[0m\u001b[0m\n\u001b[0;32m--> 601\u001b[0;31m             \u001b[0mresult\u001b[0m \u001b[0;34m=\u001b[0m \u001b[0mself\u001b[0m\u001b[0;34m.\u001b[0m\u001b[0mindex\u001b[0m\u001b[0;34m.\u001b[0m\u001b[0mget_value\u001b[0m\u001b[0;34m(\u001b[0m\u001b[0mself\u001b[0m\u001b[0;34m,\u001b[0m \u001b[0mkey\u001b[0m\u001b[0;34m)\u001b[0m\u001b[0;34m\u001b[0m\u001b[0m\n\u001b[0m\u001b[1;32m    602\u001b[0m \u001b[0;34m\u001b[0m\u001b[0m\n\u001b[1;32m    603\u001b[0m             \u001b[0;32mif\u001b[0m \u001b[0;32mnot\u001b[0m \u001b[0mis_scalar\u001b[0m\u001b[0;34m(\u001b[0m\u001b[0mresult\u001b[0m\u001b[0;34m)\u001b[0m\u001b[0;34m:\u001b[0m\u001b[0;34m\u001b[0m\u001b[0m\n",
      "\u001b[0;32m~/anaconda/lib/python3.6/site-packages/pandas/core/indexes/base.py\u001b[0m in \u001b[0;36mget_value\u001b[0;34m(self, series, key)\u001b[0m\n\u001b[1;32m   2475\u001b[0m         \u001b[0;32mtry\u001b[0m\u001b[0;34m:\u001b[0m\u001b[0;34m\u001b[0m\u001b[0m\n\u001b[1;32m   2476\u001b[0m             return self._engine.get_value(s, k,\n\u001b[0;32m-> 2477\u001b[0;31m                                           tz=getattr(series.dtype, 'tz', None))\n\u001b[0m\u001b[1;32m   2478\u001b[0m         \u001b[0;32mexcept\u001b[0m \u001b[0mKeyError\u001b[0m \u001b[0;32mas\u001b[0m \u001b[0me1\u001b[0m\u001b[0;34m:\u001b[0m\u001b[0;34m\u001b[0m\u001b[0m\n\u001b[1;32m   2479\u001b[0m             \u001b[0;32mif\u001b[0m \u001b[0mlen\u001b[0m\u001b[0;34m(\u001b[0m\u001b[0mself\u001b[0m\u001b[0;34m)\u001b[0m \u001b[0;34m>\u001b[0m \u001b[0;36m0\u001b[0m \u001b[0;32mand\u001b[0m \u001b[0mself\u001b[0m\u001b[0;34m.\u001b[0m\u001b[0minferred_type\u001b[0m \u001b[0;32min\u001b[0m \u001b[0;34m[\u001b[0m\u001b[0;34m'integer'\u001b[0m\u001b[0;34m,\u001b[0m \u001b[0;34m'boolean'\u001b[0m\u001b[0;34m]\u001b[0m\u001b[0;34m:\u001b[0m\u001b[0;34m\u001b[0m\u001b[0m\n",
      "\u001b[0;32mpandas/_libs/index.pyx\u001b[0m in \u001b[0;36mpandas._libs.index.IndexEngine.get_value\u001b[0;34m()\u001b[0m\n",
      "\u001b[0;32mpandas/_libs/index.pyx\u001b[0m in \u001b[0;36mpandas._libs.index.IndexEngine.get_value\u001b[0;34m()\u001b[0m\n",
      "\u001b[0;32mpandas/_libs/index.pyx\u001b[0m in \u001b[0;36mpandas._libs.index.IndexEngine.get_loc\u001b[0;34m()\u001b[0m\n",
      "\u001b[0;32mpandas/_libs/hashtable_class_helper.pxi\u001b[0m in \u001b[0;36mpandas._libs.hashtable.Int64HashTable.get_item\u001b[0;34m()\u001b[0m\n",
      "\u001b[0;32mpandas/_libs/hashtable_class_helper.pxi\u001b[0m in \u001b[0;36mpandas._libs.hashtable.Int64HashTable.get_item\u001b[0;34m()\u001b[0m\n",
      "\u001b[0;31mKeyError\u001b[0m: 0"
     ]
    }
   ],
   "source": [
    "# create dictionary and term_matrix\n",
    "# dictionary = corpora.Dictionary(review_list)\n",
    "term_matrix = [dictionary.doc2bow(review_list[i]) for i in range(60222) if slice_id[i]==False]"
   ]
  },
  {
   "cell_type": "code",
   "execution_count": 50,
   "metadata": {
    "collapsed": true
   },
   "outputs": [],
   "source": [
    "# Creating the object for LDA model using gensim library\n",
    "lda = gensim.models.ldamodel.LdaModel\n",
    "\n",
    "# Running and Trainign LDA model on the document term matrix.\n",
    "ldamodel = lda(term_matrix, num_topics=8, id2word = dictionary, passes=10)"
   ]
  },
  {
   "cell_type": "code",
   "execution_count": 69,
   "metadata": {
    "collapsed": false
   },
   "outputs": [
    {
     "name": "stdout",
     "output_type": "stream",
     "text": [
      "[(0, '0.070*\"food\" + 0.056*\"spicy\" + 0.038*\"place\" + 0.034*\"rice\" + 0.030*\"thai\" + 0.025*\"cleveland\" + 0.021*\"restaurant\" + 0.020*\"tofu\" + 0.017*\"service\" + 0.014*\"soup\"'), (1, '0.095*\"pizza\" + 0.051*\"taco\" + 0.015*\"crust\" + 0.012*\"hour\" + 0.012*\"burrito\" + 0.011*\"place\" + 0.010*\"salsa\" + 0.009*\"sauce\" + 0.009*\"corn\" + 0.008*\"angelo\"'), (2, '0.012*\"door\" + 0.011*\"line\" + 0.010*\"music\" + 0.009*\"cleveland\" + 0.008*\"day\" + 0.008*\"market\" + 0.007*\"way\" + 0.007*\"city\" + 0.006*\"man\" + 0.006*\"room\"'), (3, '0.084*\"food\" + 0.042*\"service\" + 0.042*\"place\" + 0.033*\"time\" + 0.020*\"bar\" + 0.017*\"restaurant\" + 0.016*\"night\" + 0.014*\"order\" + 0.014*\"experience\" + 0.014*\"staff\"'), (4, '0.018*\"dinner\" + 0.017*\"cream\" + 0.017*\"dessert\" + 0.016*\"salad\" + 0.013*\"night\" + 0.012*\"bread\" + 0.012*\"chocolate\" + 0.011*\"meal\" + 0.011*\"butter\" + 0.010*\"cheese\"'), (5, '0.040*\"beer\" + 0.040*\"place\" + 0.039*\"burger\" + 0.026*\"food\" + 0.018*\"selection\" + 0.018*\"bar\" + 0.018*\"coffee\" + 0.015*\"menu\" + 0.015*\"breakfast\" + 0.014*\"spot\"'), (6, '0.024*\"food\" + 0.024*\"pork\" + 0.022*\"chicken\" + 0.020*\"sauce\" + 0.018*\"meat\" + 0.017*\"beef\" + 0.017*\"place\" + 0.016*\"time\" + 0.014*\"order\" + 0.014*\"flavor\"'), (7, '0.032*\"sushi\" + 0.029*\"steak\" + 0.026*\"cleveland\" + 0.022*\"roll\" + 0.021*\"szechuan\" + 0.020*\"chef\" + 0.014*\"tuna\" + 0.013*\"restaurant\" + 0.013*\"buffet\" + 0.012*\"symon\"')]\n"
     ]
    }
   ],
   "source": [
    "print(ldamodel.print_topics(num_topics=8, num_words=10))"
   ]
  },
  {
   "cell_type": "code",
   "execution_count": 409,
   "metadata": {
    "collapsed": false
   },
   "outputs": [],
   "source": [
    "# on new data\n",
    "new_data_topics=[]\n",
    "for review in review_list[500:1000]:\n",
    "    doc_bow = dictionary.doc2bow(review)\n",
    "    topics = [sorted(ldamodel[doc_bow], key=lambda x: x[1], reverse=True)]\n",
    "    new_data_topics.extend(topics)"
   ]
  },
  {
   "cell_type": "code",
   "execution_count": 414,
   "metadata": {
    "collapsed": false
   },
   "outputs": [
    {
     "data": {
      "text/html": [
       "<div>\n",
       "<style>\n",
       "    .dataframe thead tr:only-child th {\n",
       "        text-align: right;\n",
       "    }\n",
       "\n",
       "    .dataframe thead th {\n",
       "        text-align: left;\n",
       "    }\n",
       "\n",
       "    .dataframe tbody tr th {\n",
       "        vertical-align: top;\n",
       "    }\n",
       "</style>\n",
       "<table border=\"1\" class=\"dataframe\">\n",
       "  <thead>\n",
       "    <tr style=\"text-align: right;\">\n",
       "      <th></th>\n",
       "      <th>business_id</th>\n",
       "      <th>cool</th>\n",
       "      <th>date</th>\n",
       "      <th>funny</th>\n",
       "      <th>review_id</th>\n",
       "      <th>stars</th>\n",
       "      <th>text</th>\n",
       "      <th>useful</th>\n",
       "      <th>user_id</th>\n",
       "    </tr>\n",
       "  </thead>\n",
       "  <tbody>\n",
       "    <tr>\n",
       "      <th>0</th>\n",
       "      <td>dwQEZBFen2GdihLLfWeexA</td>\n",
       "      <td>0</td>\n",
       "      <td>2011-08-21</td>\n",
       "      <td>0</td>\n",
       "      <td>4RF8dMNBW-p2eTluPME_4g</td>\n",
       "      <td>4</td>\n",
       "      <td>Enjoyed the bright fun Mexican decor!  The foo...</td>\n",
       "      <td>0</td>\n",
       "      <td>rv6_U_4AsOQ-L50aNRuNNg</td>\n",
       "    </tr>\n",
       "    <tr>\n",
       "      <th>1</th>\n",
       "      <td>dwQEZBFen2GdihLLfWeexA</td>\n",
       "      <td>0</td>\n",
       "      <td>2013-06-03</td>\n",
       "      <td>0</td>\n",
       "      <td>ClgrKJ6dqiM7vSKJBJ2w6Q</td>\n",
       "      <td>4</td>\n",
       "      <td>I've been here at least 5 times now and each t...</td>\n",
       "      <td>0</td>\n",
       "      <td>T5MGS0NHBCWgofZ6Q6Btng</td>\n",
       "    </tr>\n",
       "    <tr>\n",
       "      <th>2</th>\n",
       "      <td>dwQEZBFen2GdihLLfWeexA</td>\n",
       "      <td>0</td>\n",
       "      <td>2014-03-15</td>\n",
       "      <td>0</td>\n",
       "      <td>IBCTqmvwvd5ZqQhuvFDNXg</td>\n",
       "      <td>5</td>\n",
       "      <td>Terrific service. The place was packed, but we...</td>\n",
       "      <td>0</td>\n",
       "      <td>NtkMuGqcis30GjAkq91etA</td>\n",
       "    </tr>\n",
       "    <tr>\n",
       "      <th>3</th>\n",
       "      <td>dwQEZBFen2GdihLLfWeexA</td>\n",
       "      <td>0</td>\n",
       "      <td>2014-06-09</td>\n",
       "      <td>0</td>\n",
       "      <td>69kni-xG6qtg9y3Hq_zw5g</td>\n",
       "      <td>4</td>\n",
       "      <td>Ate here for lunch on a Sunday.  Arrived aroun...</td>\n",
       "      <td>0</td>\n",
       "      <td>unEY79t6hHECP9Yd58R1dg</td>\n",
       "    </tr>\n",
       "    <tr>\n",
       "      <th>4</th>\n",
       "      <td>dwQEZBFen2GdihLLfWeexA</td>\n",
       "      <td>0</td>\n",
       "      <td>2012-02-25</td>\n",
       "      <td>0</td>\n",
       "      <td>rQOasxLFCDNWLNW27VHnyA</td>\n",
       "      <td>5</td>\n",
       "      <td>Been dining here since it first opened. Wife i...</td>\n",
       "      <td>0</td>\n",
       "      <td>UwfgmOOul1fc79IcI5h2MQ</td>\n",
       "    </tr>\n",
       "  </tbody>\n",
       "</table>\n",
       "</div>"
      ],
      "text/plain": [
       "              business_id  cool        date  funny               review_id  \\\n",
       "0  dwQEZBFen2GdihLLfWeexA     0  2011-08-21      0  4RF8dMNBW-p2eTluPME_4g   \n",
       "1  dwQEZBFen2GdihLLfWeexA     0  2013-06-03      0  ClgrKJ6dqiM7vSKJBJ2w6Q   \n",
       "2  dwQEZBFen2GdihLLfWeexA     0  2014-03-15      0  IBCTqmvwvd5ZqQhuvFDNXg   \n",
       "3  dwQEZBFen2GdihLLfWeexA     0  2014-06-09      0  69kni-xG6qtg9y3Hq_zw5g   \n",
       "4  dwQEZBFen2GdihLLfWeexA     0  2012-02-25      0  rQOasxLFCDNWLNW27VHnyA   \n",
       "\n",
       "   stars                                               text  useful  \\\n",
       "0      4  Enjoyed the bright fun Mexican decor!  The foo...       0   \n",
       "1      4  I've been here at least 5 times now and each t...       0   \n",
       "2      5  Terrific service. The place was packed, but we...       0   \n",
       "3      4  Ate here for lunch on a Sunday.  Arrived aroun...       0   \n",
       "4      5  Been dining here since it first opened. Wife i...       0   \n",
       "\n",
       "                  user_id  \n",
       "0  rv6_U_4AsOQ-L50aNRuNNg  \n",
       "1  T5MGS0NHBCWgofZ6Q6Btng  \n",
       "2  NtkMuGqcis30GjAkq91etA  \n",
       "3  unEY79t6hHECP9Yd58R1dg  \n",
       "4  UwfgmOOul1fc79IcI5h2MQ  "
      ]
     },
     "execution_count": 414,
     "metadata": {},
     "output_type": "execute_result"
    }
   ],
   "source": [
    "reviews_keep.head()"
   ]
  },
  {
   "cell_type": "code",
   "execution_count": 417,
   "metadata": {
    "collapsed": true
   },
   "outputs": [],
   "source": [
    "topic_dict = {0:\"Mexican\",1:\"Family\",2:\"Night/Bar\"}\n",
    "topic_count={\"Mexican\":0,\"Family\":0,\"Night/Bar\":0}"
   ]
  },
  {
   "cell_type": "code",
   "execution_count": 418,
   "metadata": {
    "collapsed": false
   },
   "outputs": [],
   "source": [
    "# get training matrix for linear regression\n",
    "train = np.zeros((500,3))\n",
    "for i in range(500):\n",
    "    items = new_data_topics[i]\n",
    "    for s in items:\n",
    "        if s[1]>0.05:\n",
    "            topic = topic_dict[s[0]]\n",
    "            topic_count[topic]+=1\n",
    "            train[i,s[0]] = 1/len(items)\n"
   ]
  },
  {
   "cell_type": "code",
   "execution_count": 52,
   "metadata": {
    "collapsed": true
   },
   "outputs": [],
   "source": [
    "import os"
   ]
  },
  {
   "cell_type": "code",
   "execution_count": 64,
   "metadata": {
    "collapsed": false
   },
   "outputs": [
    {
     "data": {
      "text/plain": [
       "'/Users/tianxia/Desktop/project-3-p2-yo-xi-lo'"
      ]
     },
     "execution_count": 64,
     "metadata": {},
     "output_type": "execute_result"
    }
   ],
   "source": [
    "os.getcwd()"
   ]
  }
 ],
 "metadata": {
  "kernelspec": {
   "display_name": "Python 3",
   "language": "python",
   "name": "python3"
  },
  "language_info": {
   "codemirror_mode": {
    "name": "ipython",
    "version": 3
   },
   "file_extension": ".py",
   "mimetype": "text/x-python",
   "name": "python",
   "nbconvert_exporter": "python",
   "pygments_lexer": "ipython3",
   "version": "3.6.0"
  }
 },
 "nbformat": 4,
 "nbformat_minor": 2
}
