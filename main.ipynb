{
 "cells": [
  {
   "cell_type": "markdown",
   "metadata": {},
   "source": [
    "# Modeling on Ohio's Restaurant Yelp Review Data: Comparison Between Latent Dirichelet Allocation and Multinomial Logistic Regression\n",
    "\n",
    "**Author:** Ningning Long, Yue You, Tian Xia"
   ]
  },
  {
   "cell_type": "markdown",
   "metadata": {},
   "source": [
    "When running business like restaurants or cafes, owners of business care a lot of how they can make uses of customers’ \n",
    "reviews after they visit their businesses. The insights mined from customers’ reviews will help discover the weaknesses of the business and contribute to the improvements of service, product or ambience. This study is aimed for utilizing machine learning and natural language processing (NLP) techniques to analyze customers’ reviews from the [Yelp Dataset Challenge](https://www.yelp.com/dataset/challenge)."
   ]
  },
  {
   "cell_type": "markdown",
   "metadata": {},
   "source": [
    "We focus on a subset data of the whole dataset challenge (i.e. the restaurants reviews in the state of Ohio). We are interested in using the latent dirichelet allocation (LDA) method to find out the topics underlying the customer’s reviews. The latent dirichelet allocation (LDA) is an unsupervised machine learning algorithm that can generate topics based on word frequency from a set of documents. We will use the topics to investigate how they match the reviews and predict the customers’ ratings. Meanwhile, in order to make a comparison, we will also compute the Tf-idf of reviews and use them to run the multinomial logistic regression of customers’ ratings. "
   ]
  },
  {
   "cell_type": "markdown",
   "metadata": {},
   "source": [
    "## Data Extraction & Cleaning"
   ]
  },
  {
   "cell_type": "markdown",
   "metadata": {},
   "source": [
    "The raw data are JSON files from the Round 10 [Yelp Dataset Challenge](https://www.yelp.com/dataset/challenge). We subset and extract part of the data and save it in the **'data'** folder. The *'restaurant.csv'* file is the metadata for the restaurants in the state of Ohio. The *'reviews.csv'* file is the file that we mainly worked with, which contains the customers' reviews for restaurants in the state of Ohio. Our latent dirichelet allocation (LDA) model and multinomial logistic regression model mainly use the reviews in that file."
   ]
  },
  {
   "cell_type": "markdown",
   "metadata": {},
   "source": [
    "Here is a quick look of the *'restaurant.csv'* file in the **'data'** folder:"
   ]
  },
  {
   "cell_type": "code",
   "execution_count": 3,
   "metadata": {
    "collapsed": false
   },
   "outputs": [
    {
     "data": {
      "text/html": [
       "<div>\n",
       "<style>\n",
       "    .dataframe thead tr:only-child th {\n",
       "        text-align: right;\n",
       "    }\n",
       "\n",
       "    .dataframe thead th {\n",
       "        text-align: left;\n",
       "    }\n",
       "\n",
       "    .dataframe tbody tr th {\n",
       "        vertical-align: top;\n",
       "    }\n",
       "</style>\n",
       "<table border=\"1\" class=\"dataframe\">\n",
       "  <thead>\n",
       "    <tr style=\"text-align: right;\">\n",
       "      <th></th>\n",
       "      <th>Unnamed: 0</th>\n",
       "      <th>state</th>\n",
       "      <th>city</th>\n",
       "      <th>address</th>\n",
       "      <th>name</th>\n",
       "      <th>business_id</th>\n",
       "      <th>stars</th>\n",
       "      <th>review_count</th>\n",
       "      <th>categories</th>\n",
       "    </tr>\n",
       "  </thead>\n",
       "  <tbody>\n",
       "    <tr>\n",
       "      <th>0</th>\n",
       "      <td>0</td>\n",
       "      <td>OH</td>\n",
       "      <td>Painesville</td>\n",
       "      <td>1 S State St</td>\n",
       "      <td>Sidewalk Cafe Painesville</td>\n",
       "      <td>Bl7Y-ATTzXytQnCceg5k6w</td>\n",
       "      <td>3.0</td>\n",
       "      <td>26</td>\n",
       "      <td>['American (Traditional)', 'Breakfast &amp; Brunch...</td>\n",
       "    </tr>\n",
       "    <tr>\n",
       "      <th>1</th>\n",
       "      <td>1</td>\n",
       "      <td>OH</td>\n",
       "      <td>Northfield</td>\n",
       "      <td>10430 Northfield Rd</td>\n",
       "      <td>Zeppe's Pizzeria</td>\n",
       "      <td>7HFRdxVttyY9GiMpywhhYw</td>\n",
       "      <td>3.0</td>\n",
       "      <td>7</td>\n",
       "      <td>['Pizza', 'Caterers', 'Italian', 'Wraps', 'Eve...</td>\n",
       "    </tr>\n",
       "    <tr>\n",
       "      <th>2</th>\n",
       "      <td>2</td>\n",
       "      <td>OH</td>\n",
       "      <td>Mentor</td>\n",
       "      <td>9209 Mentor Ave</td>\n",
       "      <td>Firehouse Subs</td>\n",
       "      <td>lXcxSdPa2m__LqhsaL9t9A</td>\n",
       "      <td>3.5</td>\n",
       "      <td>9</td>\n",
       "      <td>['Restaurants', 'Sandwiches', 'Delis', 'Fast F...</td>\n",
       "    </tr>\n",
       "    <tr>\n",
       "      <th>3</th>\n",
       "      <td>3</td>\n",
       "      <td>OH</td>\n",
       "      <td>Cleveland</td>\n",
       "      <td>13181 Cedar Rd</td>\n",
       "      <td>Richie Chan's Chinese Restaurant</td>\n",
       "      <td>Pawavw9U8rjxWVPU-RB7LA</td>\n",
       "      <td>3.5</td>\n",
       "      <td>22</td>\n",
       "      <td>['Chinese', 'Restaurants']</td>\n",
       "    </tr>\n",
       "    <tr>\n",
       "      <th>4</th>\n",
       "      <td>4</td>\n",
       "      <td>OH</td>\n",
       "      <td>Northfield</td>\n",
       "      <td>134 E Aurora Rd</td>\n",
       "      <td>Romeo's Pizza</td>\n",
       "      <td>RzVHK8Jfcy8RvXjn_z3OBw</td>\n",
       "      <td>4.0</td>\n",
       "      <td>4</td>\n",
       "      <td>['Restaurants', 'Pizza']</td>\n",
       "    </tr>\n",
       "  </tbody>\n",
       "</table>\n",
       "</div>"
      ],
      "text/plain": [
       "   Unnamed: 0 state         city              address  \\\n",
       "0           0    OH  Painesville         1 S State St   \n",
       "1           1    OH   Northfield  10430 Northfield Rd   \n",
       "2           2    OH       Mentor      9209 Mentor Ave   \n",
       "3           3    OH    Cleveland       13181 Cedar Rd   \n",
       "4           4    OH   Northfield      134 E Aurora Rd   \n",
       "\n",
       "                               name             business_id  stars  \\\n",
       "0         Sidewalk Cafe Painesville  Bl7Y-ATTzXytQnCceg5k6w    3.0   \n",
       "1                  Zeppe's Pizzeria  7HFRdxVttyY9GiMpywhhYw    3.0   \n",
       "2                    Firehouse Subs  lXcxSdPa2m__LqhsaL9t9A    3.5   \n",
       "3  Richie Chan's Chinese Restaurant  Pawavw9U8rjxWVPU-RB7LA    3.5   \n",
       "4                     Romeo's Pizza  RzVHK8Jfcy8RvXjn_z3OBw    4.0   \n",
       "\n",
       "   review_count                                         categories  \n",
       "0            26  ['American (Traditional)', 'Breakfast & Brunch...  \n",
       "1             7  ['Pizza', 'Caterers', 'Italian', 'Wraps', 'Eve...  \n",
       "2             9  ['Restaurants', 'Sandwiches', 'Delis', 'Fast F...  \n",
       "3            22                         ['Chinese', 'Restaurants']  \n",
       "4             4                           ['Restaurants', 'Pizza']  "
      ]
     },
     "execution_count": 3,
     "metadata": {},
     "output_type": "execute_result"
    }
   ],
   "source": [
    "import pandas as pd\n",
    "pd.read_csv('./data/restaurant.csv',).head()"
   ]
  },
  {
   "cell_type": "markdown",
   "metadata": {},
   "source": [
    "## Latent Dirichelet Allocation"
   ]
  },
  {
   "cell_type": "markdown",
   "metadata": {},
   "source": [
    "## The Multinomial Logistic Regression"
   ]
  },
  {
   "cell_type": "markdown",
   "metadata": {},
   "source": [
    "## Conclusion"
   ]
  },
  {
   "cell_type": "markdown",
   "metadata": {},
   "source": [
    "## Author Contributions"
   ]
  },
  {
   "cell_type": "markdown",
   "metadata": {},
   "source": [
    "This repository and project is the collaboration from **Ningning Long**, **Yue You** and **Tian Xia**. Their contributions to the project are summarized as:\n",
    "\n",
    "**Ningning Long**:\n",
    "-\t‘*.ipynb’, latent dirichelet allocation modeling and analysis\n",
    "-\t‘makefile’\n",
    "-\t‘environment.yml’\n",
    "-\tSome write-up of ‘main.ipynb’\n",
    "\n",
    "**Yue You**:\n",
    "-\t‘Modeling.ipynb’, statistical modeling of multinomial logistic regression\n",
    "-\t‘.gitignore’\n",
    "-\tSome write-up of ‘main.ipynb’\n",
    "\n",
    "**Tian Xia**:\n",
    "-\t‘Data_Cleaning.ipynb’, data extraction and cleaning\n",
    "-\t‘README.md’\n",
    "-\tSome write-up of ‘main.ipynb’\n",
    "-\t‘LICENSE.md’\n"
   ]
  }
 ],
 "metadata": {
  "kernelspec": {
   "display_name": "Python 3",
   "language": "python",
   "name": "python3"
  },
  "language_info": {
   "codemirror_mode": {
    "name": "ipython",
    "version": 3
   },
   "file_extension": ".py",
   "mimetype": "text/x-python",
   "name": "python",
   "nbconvert_exporter": "python",
   "pygments_lexer": "ipython3",
   "version": "3.6.0"
  }
 },
 "nbformat": 4,
 "nbformat_minor": 2
}
