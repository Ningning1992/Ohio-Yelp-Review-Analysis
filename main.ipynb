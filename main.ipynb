{
 "cells": [
  {
   "cell_type": "markdown",
   "metadata": {},
   "source": [
    "# Modeling on Ohio's Restaurant Yelp Review Data: Comparison Between Latent Dirichelet Allocation and Multinomial Logistic Regression\n",
    "\n",
    "**Author:** Ningning Long, Yue You, Tian Xia"
   ]
  },
  {
   "cell_type": "code",
   "execution_count": 16,
   "metadata": {
    "collapsed": true
   },
   "outputs": [],
   "source": [
    "%matplotlib inline\n",
    "import matplotlib.pyplot as plt\n",
    "import numpy as np\n",
    "import pandas as pd\n",
    "import seaborn as sns\n",
    "import shelve"
   ]
  },
  {
   "cell_type": "markdown",
   "metadata": {},
   "source": [
    "When running business like restaurants or cafes, owners of business care a lot of how they can make uses of customers’ \n",
    "reviews after they visit their businesses. The insights mined from customers’ reviews will help discover the weaknesses of the business and contribute to the improvements of service, product or ambience. This study is aimed for utilizing machine learning and natural language processing (NLP) techniques to analyze customers’ reviews from the [Yelp Dataset Challenge](https://www.yelp.com/dataset/challenge)."
   ]
  },
  {
   "cell_type": "markdown",
   "metadata": {},
   "source": [
    "We focus on a subset data of the whole dataset challenge (i.e. the restaurants reviews in the state of Ohio). We are interested in using the latent dirichelet allocation (LDA) method to find out the topics underlying the customer’s reviews. The latent dirichelet allocation (LDA) is an unsupervised machine learning algorithm that can generate topics based on word frequency from a set of documents. We will use the topics to investigate how they match the reviews and predict the customers’ ratings. Meanwhile, in order to make a comparison, we will also compute the Tf-idf of reviews and use them to run the multinomial logistic regression of customers’ ratings. "
   ]
  },
  {
   "cell_type": "markdown",
   "metadata": {},
   "source": [
    "## Data Extraction & Cleaning"
   ]
  },
  {
   "cell_type": "markdown",
   "metadata": {},
   "source": [
    "The raw data are JSON files from the Round 10 [Yelp Dataset Challenge](https://www.yelp.com/dataset/challenge). We subset and extract part of the data and save it in the **'data'** folder. The *'restaurant.csv'* file is the meta-data for the restaurants in the state of Ohio. The *'reviews.csv'* file is the file that we mainly worked with, which contains the customers' reviews for restaurants in the state of Ohio. Our latent dirichelet allocation (LDA) model and multinomial logistic regression model mainly use the reviews in that file."
   ]
  },
  {
   "cell_type": "markdown",
   "metadata": {},
   "source": [
    "Here is a quick look of the *'restaurant.csv'* file in the **'data'** folder:"
   ]
  },
  {
   "cell_type": "code",
   "execution_count": 17,
   "metadata": {
    "collapsed": false,
    "scrolled": true
   },
   "outputs": [
    {
     "data": {
      "text/html": [
       "<div>\n",
       "<style>\n",
       "    .dataframe thead tr:only-child th {\n",
       "        text-align: right;\n",
       "    }\n",
       "\n",
       "    .dataframe thead th {\n",
       "        text-align: left;\n",
       "    }\n",
       "\n",
       "    .dataframe tbody tr th {\n",
       "        vertical-align: top;\n",
       "    }\n",
       "</style>\n",
       "<table border=\"1\" class=\"dataframe\">\n",
       "  <thead>\n",
       "    <tr style=\"text-align: right;\">\n",
       "      <th></th>\n",
       "      <th>state</th>\n",
       "      <th>city</th>\n",
       "      <th>address</th>\n",
       "      <th>name</th>\n",
       "      <th>business_id</th>\n",
       "      <th>stars</th>\n",
       "      <th>review_count</th>\n",
       "      <th>categories</th>\n",
       "    </tr>\n",
       "  </thead>\n",
       "  <tbody>\n",
       "    <tr>\n",
       "      <th>0</th>\n",
       "      <td>OH</td>\n",
       "      <td>Painesville</td>\n",
       "      <td>1 S State St</td>\n",
       "      <td>Sidewalk Cafe Painesville</td>\n",
       "      <td>Bl7Y-ATTzXytQnCceg5k6w</td>\n",
       "      <td>3.0</td>\n",
       "      <td>26</td>\n",
       "      <td>['American (Traditional)', 'Breakfast &amp; Brunch...</td>\n",
       "    </tr>\n",
       "    <tr>\n",
       "      <th>1</th>\n",
       "      <td>OH</td>\n",
       "      <td>Northfield</td>\n",
       "      <td>10430 Northfield Rd</td>\n",
       "      <td>Zeppe's Pizzeria</td>\n",
       "      <td>7HFRdxVttyY9GiMpywhhYw</td>\n",
       "      <td>3.0</td>\n",
       "      <td>7</td>\n",
       "      <td>['Pizza', 'Caterers', 'Italian', 'Wraps', 'Eve...</td>\n",
       "    </tr>\n",
       "    <tr>\n",
       "      <th>2</th>\n",
       "      <td>OH</td>\n",
       "      <td>Mentor</td>\n",
       "      <td>9209 Mentor Ave</td>\n",
       "      <td>Firehouse Subs</td>\n",
       "      <td>lXcxSdPa2m__LqhsaL9t9A</td>\n",
       "      <td>3.5</td>\n",
       "      <td>9</td>\n",
       "      <td>['Restaurants', 'Sandwiches', 'Delis', 'Fast F...</td>\n",
       "    </tr>\n",
       "    <tr>\n",
       "      <th>3</th>\n",
       "      <td>OH</td>\n",
       "      <td>Cleveland</td>\n",
       "      <td>13181 Cedar Rd</td>\n",
       "      <td>Richie Chan's Chinese Restaurant</td>\n",
       "      <td>Pawavw9U8rjxWVPU-RB7LA</td>\n",
       "      <td>3.5</td>\n",
       "      <td>22</td>\n",
       "      <td>['Chinese', 'Restaurants']</td>\n",
       "    </tr>\n",
       "    <tr>\n",
       "      <th>4</th>\n",
       "      <td>OH</td>\n",
       "      <td>Northfield</td>\n",
       "      <td>134 E Aurora Rd</td>\n",
       "      <td>Romeo's Pizza</td>\n",
       "      <td>RzVHK8Jfcy8RvXjn_z3OBw</td>\n",
       "      <td>4.0</td>\n",
       "      <td>4</td>\n",
       "      <td>['Restaurants', 'Pizza']</td>\n",
       "    </tr>\n",
       "  </tbody>\n",
       "</table>\n",
       "</div>"
      ],
      "text/plain": [
       "  state         city              address                              name  \\\n",
       "0    OH  Painesville         1 S State St         Sidewalk Cafe Painesville   \n",
       "1    OH   Northfield  10430 Northfield Rd                  Zeppe's Pizzeria   \n",
       "2    OH       Mentor      9209 Mentor Ave                    Firehouse Subs   \n",
       "3    OH    Cleveland       13181 Cedar Rd  Richie Chan's Chinese Restaurant   \n",
       "4    OH   Northfield      134 E Aurora Rd                     Romeo's Pizza   \n",
       "\n",
       "              business_id  stars  review_count  \\\n",
       "0  Bl7Y-ATTzXytQnCceg5k6w    3.0            26   \n",
       "1  7HFRdxVttyY9GiMpywhhYw    3.0             7   \n",
       "2  lXcxSdPa2m__LqhsaL9t9A    3.5             9   \n",
       "3  Pawavw9U8rjxWVPU-RB7LA    3.5            22   \n",
       "4  RzVHK8Jfcy8RvXjn_z3OBw    4.0             4   \n",
       "\n",
       "                                          categories  \n",
       "0  ['American (Traditional)', 'Breakfast & Brunch...  \n",
       "1  ['Pizza', 'Caterers', 'Italian', 'Wraps', 'Eve...  \n",
       "2  ['Restaurants', 'Sandwiches', 'Delis', 'Fast F...  \n",
       "3                         ['Chinese', 'Restaurants']  \n",
       "4                           ['Restaurants', 'Pizza']  "
      ]
     },
     "execution_count": 17,
     "metadata": {},
     "output_type": "execute_result"
    }
   ],
   "source": [
    "pd.read_csv('./data/restaurant.csv',index_col=0).head()"
   ]
  },
  {
   "cell_type": "markdown",
   "metadata": {},
   "source": [
    "Here is a quick look of the *'reviews.csv'* file in the **'data'** folder. We will primarily work on the 'text' column, which stores the customers' reviews, and the 'stars' column, which stores the actual customers' ratings to restaurants, in our analysis."
   ]
  },
  {
   "cell_type": "code",
   "execution_count": 14,
   "metadata": {
    "collapsed": false
   },
   "outputs": [
    {
     "data": {
      "text/html": [
       "<div>\n",
       "<style>\n",
       "    .dataframe thead tr:only-child th {\n",
       "        text-align: right;\n",
       "    }\n",
       "\n",
       "    .dataframe thead th {\n",
       "        text-align: left;\n",
       "    }\n",
       "\n",
       "    .dataframe tbody tr th {\n",
       "        vertical-align: top;\n",
       "    }\n",
       "</style>\n",
       "<table border=\"1\" class=\"dataframe\">\n",
       "  <thead>\n",
       "    <tr style=\"text-align: right;\">\n",
       "      <th></th>\n",
       "      <th>business_id</th>\n",
       "      <th>cool</th>\n",
       "      <th>date</th>\n",
       "      <th>funny</th>\n",
       "      <th>review_id</th>\n",
       "      <th>stars</th>\n",
       "      <th>text</th>\n",
       "      <th>useful</th>\n",
       "      <th>user_id</th>\n",
       "    </tr>\n",
       "  </thead>\n",
       "  <tbody>\n",
       "    <tr>\n",
       "      <th>52</th>\n",
       "      <td>tulUhFYMvBkYHsjmn30A9w</td>\n",
       "      <td>1</td>\n",
       "      <td>2013-11-19</td>\n",
       "      <td>0</td>\n",
       "      <td>FsS5TUFPI8QJEE60-HR3dw</td>\n",
       "      <td>2</td>\n",
       "      <td>Wished it was better..\\nAfter watching man vs....</td>\n",
       "      <td>1</td>\n",
       "      <td>bWh4k_cCuVt5GLVd33xIxg</td>\n",
       "    </tr>\n",
       "    <tr>\n",
       "      <th>53</th>\n",
       "      <td>tulUhFYMvBkYHsjmn30A9w</td>\n",
       "      <td>1</td>\n",
       "      <td>2014-12-18</td>\n",
       "      <td>0</td>\n",
       "      <td>7xGHiLP1vAaGmX6srC_XXw</td>\n",
       "      <td>4</td>\n",
       "      <td>Decor and service leave much to be desired, bu...</td>\n",
       "      <td>0</td>\n",
       "      <td>nQ4e81UdfczimYcIUtO3HA</td>\n",
       "    </tr>\n",
       "    <tr>\n",
       "      <th>54</th>\n",
       "      <td>tulUhFYMvBkYHsjmn30A9w</td>\n",
       "      <td>1</td>\n",
       "      <td>2014-09-12</td>\n",
       "      <td>0</td>\n",
       "      <td>ZWlXWc9LHPLiOksrp-enyw</td>\n",
       "      <td>5</td>\n",
       "      <td>My husband and I ate here tonight for the firs...</td>\n",
       "      <td>0</td>\n",
       "      <td>gJPa95ZRozMhiOqvENpspA</td>\n",
       "    </tr>\n",
       "    <tr>\n",
       "      <th>55</th>\n",
       "      <td>tulUhFYMvBkYHsjmn30A9w</td>\n",
       "      <td>1</td>\n",
       "      <td>2012-02-28</td>\n",
       "      <td>1</td>\n",
       "      <td>KpRwKYyQ93ypyDSdA7IXfw</td>\n",
       "      <td>2</td>\n",
       "      <td>Don't believe the hype. Nooooo! \\n\\nIn the Cle...</td>\n",
       "      <td>5</td>\n",
       "      <td>bAwfPH4lXNzgcYp9JFy6ow</td>\n",
       "    </tr>\n",
       "    <tr>\n",
       "      <th>56</th>\n",
       "      <td>tulUhFYMvBkYHsjmn30A9w</td>\n",
       "      <td>3</td>\n",
       "      <td>2014-10-06</td>\n",
       "      <td>6</td>\n",
       "      <td>OZvrgp4vWBsYqIt3-YMSEw</td>\n",
       "      <td>3</td>\n",
       "      <td>Don't believe the hype!\\n\\nAfter seeing this l...</td>\n",
       "      <td>10</td>\n",
       "      <td>BjtJ3VkMOxV2Lan037AFuw</td>\n",
       "    </tr>\n",
       "  </tbody>\n",
       "</table>\n",
       "</div>"
      ],
      "text/plain": [
       "               business_id  cool        date  funny               review_id  \\\n",
       "52  tulUhFYMvBkYHsjmn30A9w     1  2013-11-19      0  FsS5TUFPI8QJEE60-HR3dw   \n",
       "53  tulUhFYMvBkYHsjmn30A9w     1  2014-12-18      0  7xGHiLP1vAaGmX6srC_XXw   \n",
       "54  tulUhFYMvBkYHsjmn30A9w     1  2014-09-12      0  ZWlXWc9LHPLiOksrp-enyw   \n",
       "55  tulUhFYMvBkYHsjmn30A9w     1  2012-02-28      1  KpRwKYyQ93ypyDSdA7IXfw   \n",
       "56  tulUhFYMvBkYHsjmn30A9w     3  2014-10-06      6  OZvrgp4vWBsYqIt3-YMSEw   \n",
       "\n",
       "    stars                                               text  useful  \\\n",
       "52      2  Wished it was better..\\nAfter watching man vs....       1   \n",
       "53      4  Decor and service leave much to be desired, bu...       0   \n",
       "54      5  My husband and I ate here tonight for the firs...       0   \n",
       "55      2  Don't believe the hype. Nooooo! \\n\\nIn the Cle...       5   \n",
       "56      3  Don't believe the hype!\\n\\nAfter seeing this l...      10   \n",
       "\n",
       "                   user_id  \n",
       "52  bWh4k_cCuVt5GLVd33xIxg  \n",
       "53  nQ4e81UdfczimYcIUtO3HA  \n",
       "54  gJPa95ZRozMhiOqvENpspA  \n",
       "55  bAwfPH4lXNzgcYp9JFy6ow  \n",
       "56  BjtJ3VkMOxV2Lan037AFuw  "
      ]
     },
     "execution_count": 14,
     "metadata": {},
     "output_type": "execute_result"
    }
   ],
   "source": [
    "pd.read_csv('./data/reviews.csv',index_col=0).head()"
   ]
  },
  {
   "cell_type": "markdown",
   "metadata": {},
   "source": [
    "In short summary of the data, we focus on the 316 restaurants which have 100 customers' reviews at least, in the state of Ohio. The maximum number of reviews for a single restaurant in our sample is around 900. The distribution of mean star ratings received for restaurants is skewed with the peak around 4 stars."
   ]
  },
  {
   "cell_type": "markdown",
   "metadata": {},
   "source": [
    "<img src=\"./fig/NumberOfReviewsPerRestaurant.png\">"
   ]
  },
  {
   "cell_type": "markdown",
   "metadata": {},
   "source": [
    "<img src=\"./fig/MeanRatings.png\">"
   ]
  },
  {
   "cell_type": "markdown",
   "metadata": {},
   "source": [
    "## Latent Dirichelet Allocation"
   ]
  },
  {
   "cell_type": "markdown",
   "metadata": {},
   "source": [
    "## The Multinomial Logistic Regression"
   ]
  },
  {
   "cell_type": "markdown",
   "metadata": {},
   "source": [
    "## Conclusion"
   ]
  },
  {
   "cell_type": "markdown",
   "metadata": {},
   "source": [
    "## Author Contributions"
   ]
  },
  {
   "cell_type": "markdown",
   "metadata": {},
   "source": [
    "This repository and project is the collaboration from **Ningning Long**, **Yue You** and **Tian Xia**. Their contributions to the project are summarized as:\n",
    "\n",
    "**Ningning Long**:\n",
    "-\t‘*.ipynb’, latent dirichelet allocation modeling and analysis\n",
    "-\t‘makefile’\n",
    "-\t‘environment.yml’\n",
    "-\tSome write-up of ‘main.ipynb’\n",
    "\n",
    "**Yue You**:\n",
    "-\t‘Modeling.ipynb’, statistical modeling of multinomial logistic regression\n",
    "-\t‘.gitignore’\n",
    "-\tSome write-up of ‘main.ipynb’\n",
    "\n",
    "**Tian Xia**:\n",
    "-\t‘Data_Cleaning.ipynb’, data extraction and cleaning\n",
    "-\t‘README.md’\n",
    "-\tSome write-up of ‘main.ipynb’\n",
    "-\t‘LICENSE.md’\n"
   ]
  }
 ],
 "metadata": {
  "kernelspec": {
   "display_name": "Python 3",
   "language": "python",
   "name": "python3"
  },
  "language_info": {
   "codemirror_mode": {
    "name": "ipython",
    "version": 3
   },
   "file_extension": ".py",
   "mimetype": "text/x-python",
   "name": "python",
   "nbconvert_exporter": "python",
   "pygments_lexer": "ipython3",
   "version": "3.6.0"
  }
 },
 "nbformat": 4,
 "nbformat_minor": 2
}
